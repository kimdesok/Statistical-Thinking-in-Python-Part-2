{
  "nbformat": 4,
  "nbformat_minor": 0,
  "metadata": {
    "colab": {
      "name": "Stats_by_Python8.ipynb",
      "provenance": [],
      "collapsed_sections": [],
      "mount_file_id": "1BGF9FYIS53t5NhsN2VPUB9uALOeYxT3N",
      "authorship_tag": "ABX9TyNMU7lzHGO2XEoyVVQNXLAX",
      "include_colab_link": true
    },
    "kernelspec": {
      "name": "python3",
      "display_name": "Python 3"
    },
    "language_info": {
      "name": "python"
    }
  },
  "cells": [
    {
      "cell_type": "markdown",
      "metadata": {
        "id": "view-in-github",
        "colab_type": "text"
      },
      "source": [
        "<a href=\"https://colab.research.google.com/github/kimdesok/Statistical-Thinking-in-Python-Part-2/blob/main/Stats_by_Python8.ipynb\" target=\"_parent\"><img src=\"https://colab.research.google.com/assets/colab-badge.svg\" alt=\"Open In Colab\"/></a>"
      ]
    },
    {
      "cell_type": "markdown",
      "metadata": {
        "id": "vUXdyqHQwqYy"
      },
      "source": [
        "#Hypothesis test examples\n",
        ">* Define the null hypothesis.\n",
        ">* Figure out how to simulate it.\n",
        ">* Determine how to test it by defining the p value - what it means to be more extreme in order to compute the p value."
      ]
    },
    {
      "cell_type": "code",
      "metadata": {
        "colab": {
          "base_uri": "https://localhost:8080/"
        },
        "id": "164zzZTaj3w9",
        "outputId": "c7cf81ff-9aec-4219-c4ff-18f7424f2e0e"
      },
      "source": [
        "# Import plotting modules\n",
        "import matplotlib.pyplot as plt\n",
        "import seaborn as sns\n",
        "\n",
        "#Importing numpy\n",
        "import numpy as np\n",
        "import pandas as pd\n",
        "\n",
        "#Load a csv file at the Google drive to the colab\n",
        "file_path = r'/content/drive/MyDrive/datasets/mlb_nohitters.csv'\n",
        "nohitter_game_no = np.loadtxt(fname=file_path, skiprows=1, usecols=range(0,2), delimiter=',')\n",
        "nht_dead = []\n",
        "nht_live = []\n",
        "#print(nohitter_game_no)\n",
        "for i in range(len(nohitter_game_no)-1):\n",
        "  nohitter_times = nohitter_game_no[i+1,1] - nohitter_game_no[i,1]\n",
        "  if(nohitter_game_no[i,0] < 19200000) :\n",
        "    nht_dead.append(nohitter_times)\n",
        "    #print(nohitter_game_no[i,0], nohitter_times)\n",
        "  else:\n",
        "    nht_live.append(nohitter_times)\n",
        "\n",
        "#Load a csv file at the Google drive to the colab\n",
        "file_path = r'/content/drive/MyDrive/datasets/female_literacy_fertility.csv'\n",
        "\n",
        "df = pd.read_csv(file_path)\n",
        "\n",
        "literacy = df['female literacy']\n",
        "\n",
        "illiteracy = 100.0 - literacy\n",
        "\n",
        "fertility = df['fertility']\n",
        "\n",
        "#Load a csv file at the Google drive to the colab\n",
        "file_path = r'/content/drive/MyDrive/datasets/bee_sperm.csv'\n",
        "\n",
        "df = pd.read_csv(file_path, skiprows=3)\n",
        "\n",
        "print(df.info())\n",
        "\n",
        "control = df[df['Treatment']=='Control']['AliveSperm']\n",
        "treated = df[df['Treatment']=='Pesticide']['AliveSperm']"
      ],
      "execution_count": 22,
      "outputs": [
        {
          "output_type": "stream",
          "text": [
            "   Specimen Treatment  ... Alive Sperm Millions  Dead Sperm Millions\n",
            "0       227   Control  ...             2.079617             0.070383\n",
            "1       228   Control  ...             2.204001             0.083499\n",
            "2       229   Control  ...             0.086406             0.001094\n",
            "3       230   Control  ...             1.749139             0.125861\n",
            "4       231   Control  ...             1.552456             0.035044\n",
            "\n",
            "[5 rows x 18 columns]\n",
            "<class 'pandas.core.frame.DataFrame'>\n",
            "RangeIndex: 235 entries, 0 to 234\n",
            "Data columns (total 18 columns):\n",
            " #   Column                   Non-Null Count  Dtype  \n",
            "---  ------                   --------------  -----  \n",
            " 0   Specimen                 235 non-null    int64  \n",
            " 1   Treatment                235 non-null    object \n",
            " 2   Environment              235 non-null    object \n",
            " 3   TreatmentNCSS            235 non-null    int64  \n",
            " 4   Sample ID                235 non-null    object \n",
            " 5   Colony                   235 non-null    int64  \n",
            " 6   Cage                     235 non-null    int64  \n",
            " 7   Sample                   235 non-null    int64  \n",
            " 8   Sperm Volume per 500 ul  235 non-null    int64  \n",
            " 9   Quantity                 235 non-null    int64  \n",
            " 10  ViabilityRaw (%)         235 non-null    object \n",
            " 11  Quality                  225 non-null    float64\n",
            " 12  Age (d)                  235 non-null    int64  \n",
            " 13  Infertil                 235 non-null    int64  \n",
            " 14  AliveSperm               235 non-null    int64  \n",
            " 15  Quantity Millions        235 non-null    float64\n",
            " 16  Alive Sperm Millions     235 non-null    float64\n",
            " 17  Dead Sperm Millions      235 non-null    float64\n",
            "dtypes: float64(4), int64(10), object(4)\n",
            "memory usage: 33.2+ KB\n",
            "None\n",
            "0      2079617\n",
            "1      2204001\n",
            "2        86406\n",
            "3      1749139\n",
            "4      1552456\n",
            "        ...   \n",
            "203    2023431\n",
            "204    2730718\n",
            "205    2033052\n",
            "206          0\n",
            "207      32500\n",
            "Name: AliveSperm, Length: 145, dtype: int64\n"
          ],
          "name": "stdout"
        }
      ]
    },
    {
      "cell_type": "code",
      "metadata": {
        "id": "7m4TBgyPpRID"
      },
      "source": [
        "def ecdf(data):\n",
        "    \"\"\"Compute ECDF for a one-dimensional array of measurements.\"\"\"\n",
        "    # Number of data points: n\n",
        "    n = len(data)\n",
        "\n",
        "    # x-data for the ECDF: x\n",
        "    x = np.sort(data)\n",
        "\n",
        "    # y-data for the ECDF: y\n",
        "    y = np.arange(1, n+1) / n\n",
        "\n",
        "    return x, y"
      ],
      "execution_count": 25,
      "outputs": []
    },
    {
      "cell_type": "code",
      "metadata": {
        "id": "cNt9qvrsBo3F"
      },
      "source": [
        "def permutation_sample(data1, data2):\n",
        "    \"\"\"Generate a permutation sample from two data sets.\"\"\"\n",
        "\n",
        "    # Concatenate the data sets: data\n",
        "    data = np.concatenate((data1, data2))\n",
        "\n",
        "    # Permute the concatenated array: permuted_data\n",
        "    permuted_data = np.random.permutation(data)\n",
        "\n",
        "    # Split the permuted array into two: perm_sample_1, perm_sample_2\n",
        "    perm_sample_1 = permuted_data[:len(data1)]\n",
        "    perm_sample_2 = permuted_data[len(data1):]\n",
        "\n",
        "    return perm_sample_1, perm_sample_2"
      ],
      "execution_count": 71,
      "outputs": []
    },
    {
      "cell_type": "code",
      "metadata": {
        "id": "OW3PBR3WMJ2O"
      },
      "source": [
        "def draw_perm_reps(data_1, data_2, func, size=1):\n",
        "    \"\"\"Generate multiple permutation replicates.\"\"\"\n",
        "\n",
        "    # Initialize array of replicates: perm_replicates\n",
        "    perm_replicates = np.empty(size)\n",
        "\n",
        "    for i in range(size):\n",
        "        # Generate permutation sample\n",
        "        perm_sample_1, perm_sample_2 = permutation_sample(data_1, data_2)\n",
        "\n",
        "        # Compute the test statistic\n",
        "        perm_replicates[i] = func(perm_sample_1, perm_sample_2)\n",
        "\n",
        "    return perm_replicates"
      ],
      "execution_count": 73,
      "outputs": []
    },
    {
      "cell_type": "code",
      "metadata": {
        "id": "JA-Mg7DKohkO"
      },
      "source": [
        "def bootstrap_replicate_1d(data, func):\n",
        "    \"\"\"Generate bootstrap replicate of 1D data.\"\"\"\n",
        "    bs_sample = np.random.choice(data, len(data))\n",
        "    return func(bs_sample)\n",
        "    \n",
        "def draw_bs_reps(data, func, size=1):\n",
        "    \"\"\"Draw bootstrap replicates.\"\"\"\n",
        "\n",
        "    # Initialize array of replicates: bs_replicates\n",
        "    bs_replicates = np.empty(size)\n",
        "\n",
        "    # Generate replicates\n",
        "    for i in range(size):\n",
        "        bs_replicates[i] = bootstrap_replicate_1d(data, func)\n",
        "\n",
        "    return bs_replicates"
      ],
      "execution_count": 28,
      "outputs": []
    },
    {
      "cell_type": "code",
      "metadata": {
        "id": "iCauPQEaSiqQ"
      },
      "source": [
        "def diff_of_means(data_1, data_2):\n",
        "    \"\"\"Difference in means of two arrays.\"\"\"\n",
        "\n",
        "    # The difference of means of data_1, data_2: diff\n",
        "    diff = np.mean(data_1) - np.mean(data_2)\n",
        "\n",
        "    return diff\n",
        "\n",
        "def pearson_r(x, y):\n",
        "    \"\"\"Compute Pearson correlation coefficient between two arrays.\"\"\"\n",
        "    # Compute correlation matrix: corr_mat\n",
        "    corr_mat = np.corrcoef(x, y)\n",
        "    # Return entry [0,1]\n",
        "    return corr_mat[0,1]"
      ],
      "execution_count": 2,
      "outputs": []
    },
    {
      "cell_type": "markdown",
      "metadata": {
        "id": "gRhI9J9-pZ-P"
      },
      "source": [
        "#Games between no hitters\n",
        "*> In 1920, a new rule is introduced for a pitcher not to cheat on the ball by rubbing saliva etc.\n",
        "*> To see if the rule changed the number of games between no hitter games."
      ]
    },
    {
      "cell_type": "code",
      "metadata": {
        "colab": {
          "base_uri": "https://localhost:8080/",
          "height": 296
        },
        "id": "K2rGGm01ngjQ",
        "outputId": "e5fa594e-e2c8-432e-ddcc-9638d129bb8e"
      },
      "source": [
        "# Create an ECDF from real data: x, y\n",
        "x, y = ecdf(nht_dead)\n",
        "\n",
        "# Create a CDF from theoretical samples: x_theor, y_theor\n",
        "x_, y_ = ecdf(nht_live)\n",
        "\n",
        "# Overlay the plots\n",
        "plt.plot(x_, y_, marker='.', linestyle='none')\n",
        "plt.plot(x, y, marker='.', linestyle='none')\n",
        "\n",
        "# Margins and axis labels\n",
        "plt.legend(['After the rule', 'Before the rule'])\n",
        "plt.margins(0.02)\n",
        "plt.xlabel('Games between no-hitters')\n",
        "plt.ylabel('CDF')"
      ],
      "execution_count": 99,
      "outputs": [
        {
          "output_type": "execute_result",
          "data": {
            "text/plain": [
              "Text(0, 0.5, 'CDF')"
            ]
          },
          "metadata": {},
          "execution_count": 99
        },
        {
          "output_type": "display_data",
          "data": {
            "image/png": "[encoded data removed]",
            "text/plain": [
              "<Figure size 432x288 with 1 Axes>"
            ]
          },
          "metadata": {
            "needs_background": "light"
          }
        }
      ]
    },
    {
      "cell_type": "code",
      "metadata": {
        "colab": {
          "base_uri": "https://localhost:8080/"
        },
        "id": "f5Dmg2TtBRtn",
        "outputId": "51f230f2-4e55-4d05-86f2-ecbac8dd634a"
      },
      "source": [
        "# Compute the observed difference in mean inter-no-hitter times: nht_diff_obs\n",
        "nht_diff_obs = diff_of_means(nht_dead, nht_live)\n",
        "\n",
        "# Acquire 10,000 permutation replicates of difference in mean no-hitter time: perm_replicates\n",
        "perm_replicates = draw_perm_reps(nht_dead, nht_live, diff_of_means, size=10000)\n",
        "\n",
        "\n",
        "# Compute and print the p-value: p\n",
        "p = np.sum(perm_replicates <= nht_diff_obs)/len(perm_replicates)\n",
        "print('p-val =', p)"
      ],
      "execution_count": 98,
      "outputs": [
        {
          "output_type": "stream",
          "text": [
            "p-val = 0.0002\n"
          ],
          "name": "stdout"
        }
      ]
    },
    {
      "cell_type": "markdown",
      "metadata": {
        "id": "if39u1K916xn"
      },
      "source": [
        "#Hypothesis test on Pearson correlation\n",
        ">* permute the one variables but leave the other values fixed\n",
        ">* This simulates the hypothesis that they are totally independent of each other. \n",
        ">* For each permutation, compute the Pearson correlation coefficient.\n",
        ">* Assess how many permutation replicates have a Pearson correlation coefficient greater than the observed one --> P value\n"
      ]
    },
    {
      "cell_type": "code",
      "metadata": {
        "colab": {
          "base_uri": "https://localhost:8080/"
        },
        "id": "5AV2dSPVpN_I",
        "outputId": "d0d2cf16-9cf4-447e-c98e-536b77ac7754"
      },
      "source": [
        "# Compute observed correlation: r_obs\n",
        "r_obs = pearson_r(illiteracy, fertility)\n",
        "\n",
        "# Initialize permutation replicates: perm_replicates\n",
        "perm_replicates = np.empty(10000)\n",
        "\n",
        "# Draw replicates\n",
        "for i in range(10000):\n",
        "    # Permute illiteracy measurments: illiteracy_permuted\n",
        "    illiteracy_permuted = np.random.permutation(illiteracy)\n",
        "\n",
        "    # Compute Pearson correlation\n",
        "    perm_replicates[i] = pearson_r(illiteracy_permuted, fertility)\n",
        "\n",
        "# Compute p-value: p\n",
        "p = np.sum(perm_replicates > r_obs) /len(perm_replicates)\n",
        "print('Observed r = %.2f,' %r_obs, 'p-val = %.6f'  %p)"
      ],
      "execution_count": 3,
      "outputs": [
        {
          "output_type": "stream",
          "text": [
            "Observed r = 0.80, p-val = 0.000000\n"
          ],
          "name": "stdout"
        }
      ]
    },
    {
      "cell_type": "code",
      "metadata": {
        "colab": {
          "base_uri": "https://localhost:8080/"
        },
        "id": "Q7s_OMt0Gm5G",
        "outputId": "7a33364f-f93d-4663-9a91-7ac6bb1c98cb"
      },
      "source": [
        "#Print multiple variables\n",
        "#Pass it as tuple\n",
        "print(\"Observed correlation is %.2f with p-value %.6f\" % (r_obs, p))\n",
        "#Pass it as dictionary\n",
        "print(\"Observed correlation is %(r).2f with p-value %(p).6f\"  % {'r': r_obs, 'p': p})\n",
        "#String formatting\n",
        "print(\"Observed correlation is {} with p-value {}\".format(r_obs, p))\n",
        "#String formatting with numbers satrting with 0\n",
        "print(\"Observed correlation is {0} with p-value {1}\".format(r_obs, p))\n",
        "#String formatting with explilcit names\n",
        "print(\"Observed correlation is {r} with p-value {p}\".format(r=r_obs, p=p))\n",
        "#Use the new f-string formatting in Python 3.6:\n",
        "print(f'Observed correlation is {r_obs} with p-value {p}')"
      ],
      "execution_count": 13,
      "outputs": [
        {
          "output_type": "stream",
          "text": [
            "Observed correlation is 0.80 with p-value 0.000000\n",
            "Observed correlation is 0.80 with p-value 0.000000\n",
            "Observed correlation is 0.8041324026815344 with p-value 0.0\n",
            "Observed correlation is 0.8041324026815344 with p-value 0.0\n",
            "Observed correlation is 0.8041324026815344 with p-value 0.0\n",
            "Observed correlation is 0.8041324026815344 with p-value 0.0\n"
          ],
          "name": "stdout"
        }
      ]
    },
    {
      "cell_type": "markdown",
      "metadata": {
        "id": "_uZLeA05c_Me"
      },
      "source": [
        "#Neonicotinoid insecticides have unintended consequences?\n",
        ">* A study of pesticides harmful effects on bees' sperm counts.\n",
        ">* Start with the usual EDA\n",
        ">* Test the Ho: male bees exposed to insecticide have the same number of sperm counts compared to the untreated ones."
      ]
    },
    {
      "cell_type": "code",
      "metadata": {
        "colab": {
          "base_uri": "https://localhost:8080/",
          "height": 279
        },
        "id": "WknMRKH1c78H",
        "outputId": "415292a2-9304-463c-ef89-e49d64576c35"
      },
      "source": [
        "# Compute x,y values for ECDFs\n",
        "x_control, y_control = ecdf(control)\n",
        "x_treated, y_treated = ecdf(treated)\n",
        "\n",
        "# Plot the ECDFs\n",
        "plt.plot(x_control, y_control, marker='.', linestyle='none')\n",
        "plt.plot(x_treated, y_treated, marker='.', linestyle='none')\n",
        "\n",
        "# Set the margins\n",
        "plt.margins(0.02)\n",
        "\n",
        "# Add a legend\n",
        "plt.legend(('control', 'treated'), loc='lower right')\n",
        "\n",
        "# Label axes and show plot\n",
        "plt.xlabel('millions of alive sperm per mL')\n",
        "plt.ylabel('ECDF')\n",
        "plt.show()\n",
        "\n"
      ],
      "execution_count": 26,
      "outputs": [
        {
          "output_type": "display_data",
          "data": {
            "image/png": "[encoded data removed]",
            "text/plain": [
              "<Figure size 432x288 with 1 Axes>"
            ]
          },
          "metadata": {
            "needs_background": "light"
          }
        }
      ]
    },
    {
      "cell_type": "code",
      "metadata": {
        "colab": {
          "base_uri": "https://localhost:8080/"
        },
        "id": "FVcE3lM7da4O",
        "outputId": "8b3fc2a2-1d09-4a85-fcb8-4f646c36fa21"
      },
      "source": [
        "# Compute the difference in mean sperm count: diff_means\n",
        "diff_means = np.mean(control) - np.mean(treated)\n",
        "\n",
        "# Compute mean of pooled data: mean_count\n",
        "mean_count = np.mean(np.concatenate((control, treated)))\n",
        "\n",
        "# Generate shifted data sets\n",
        "control_shifted = control - np.mean(control) + mean_count\n",
        "treated_shifted = treated - np.mean(treated) + mean_count\n",
        "\n",
        "# Generate bootstrap replicates\n",
        "bs_reps_control = draw_bs_reps(control_shifted,\n",
        "                       np.mean, size=50000)\n",
        "bs_reps_treated = draw_bs_reps(treated_shifted,\n",
        "                       np.mean, size=50000)\n",
        "\n",
        "# Get replicates of difference of means: bs_replicates\n",
        "bs_replicates = bs_reps_control - bs_reps_treated\n",
        "\n",
        "# Compute and print p-value: p\n",
        "p = np.sum(bs_replicates >= np.mean(control) - np.mean(treated)) \\\n",
        "            / len(bs_replicates)\n",
        "print('p-value = %.100f'% p)\n"
      ],
      "execution_count": 40,
      "outputs": [
        {
          "output_type": "stream",
          "text": [
            "p-value = 0.0000200000000000000016360610782806261909172462765127420425415039062500000000000000000000000000000000\n"
          ],
          "name": "stdout"
        }
      ]
    },
    {
      "cell_type": "code",
      "metadata": {
        "colab": {
          "base_uri": "https://localhost:8080/",
          "height": 279
        },
        "id": "elCdATtoffjf",
        "outputId": "031b10b8-e5c3-4b5b-9115-86a83d8fd558"
      },
      "source": [
        "# Compute x,y values for ECDFs\n",
        "x_control, y_control = ecdf(bs_reps_control)\n",
        "x_treated, y_treated = ecdf(bs_reps_treated)\n",
        "\n",
        "# Plot the ECDFs\n",
        "plt.plot(x_control, y_control)\n",
        "plt.plot(x_treated, y_treated)\n",
        "\n",
        "# Set the margins\n",
        "plt.margins(0.02)\n",
        "\n",
        "# Add a legend\n",
        "plt.legend(('control', 'treated'), loc='lower right')\n",
        "\n",
        "# Label axes and show plot\n",
        "plt.xlabel('millions of alive sperm per mL')\n",
        "plt.ylabel('ECDF')\n",
        "plt.show()"
      ],
      "execution_count": 41,
      "outputs": [
        {
          "output_type": "display_data",
          "data": {
            "image/png": "[encoded data removed]",
            "text/plain": [
              "<Figure size 432x288 with 1 Axes>"
            ]
          },
          "metadata": {
            "needs_background": "light"
          }
        }
      ]
    }
  ]
}