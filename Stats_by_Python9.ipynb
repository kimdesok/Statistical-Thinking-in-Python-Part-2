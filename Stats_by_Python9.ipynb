{
  "nbformat": 4,
  "nbformat_minor": 0,
  "metadata": {
    "colab": {
      "name": "Stats_by_Python9.ipynb",
      "provenance": [],
      "collapsed_sections": [],
      "mount_file_id": "1R6rfwYhmyXs7_i1OR9qq-E8noviDagZs",
      "authorship_tag": "ABX9TyPJNPICXCDgQTgf7vGuVrp0",
      "include_colab_link": true
    },
    "kernelspec": {
      "name": "python3",
      "display_name": "Python 3"
    },
    "language_info": {
      "name": "python"
    }
  },
  "cells": [
    {
      "cell_type": "markdown",
      "metadata": {
        "id": "view-in-github",
        "colab_type": "text"
      },
      "source": [
        "<a href=\"https://colab.research.google.com/github/kimdesok/Statistical-Thinking-in-Python-Part-2/blob/main/Stats_by_Python9.ipynb\" target=\"_parent\"><img src=\"https://colab.research.google.com/assets/colab-badge.svg\" alt=\"Open In Colab\"/></a>"
      ]
    },
    {
      "cell_type": "markdown",
      "metadata": {
        "id": "vUXdyqHQwqYy"
      },
      "source": [
        "#Case studies\n",
        ">* Beak depth of birds in the Galapagos, Geospiza scandens & Geospiza fortis\n",
        ">* \n",
        ">* "
      ]
    },
    {
      "cell_type": "code",
      "metadata": {
        "id": "2W_1gYwPlMlP"
      },
      "source": [
        "#!cp -r /content/utilities/utilities.py '/content/drive/MyDrive/\"Colab Notebooks\"/utilities'"
      ],
      "execution_count": 2,
      "outputs": []
    },
    {
      "cell_type": "code",
      "metadata": {
        "colab": {
          "base_uri": "https://localhost:8080/"
        },
        "id": "UkR37h_K6Ny2",
        "outputId": "a15f2582-5329-46f6-f42b-947057d8c453"
      },
      "source": [
        "#Importing modules\n",
        "import sys\n",
        "sys.path.insert(0,'/content/drive/MyDrive/Colab Notebooks')\n",
        "sys.path.insert(0,'/content/drive/MyDrive')\n",
        "print(sys.path)"
      ],
      "execution_count": 3,
      "outputs": [
        {
          "output_type": "stream",
          "text": [
            "['/content/drive/MyDrive', '/content/drive/MyDrive/Colab Notebooks', '', '/content', '/env/python', '/usr/lib/python37.zip', '/usr/lib/python3.7', '/usr/lib/python3.7/lib-dynload', '/usr/local/lib/python3.7/dist-packages', '/usr/lib/python3/dist-packages', '/usr/local/lib/python3.7/dist-packages/IPython/extensions', '/root/.ipython']\n"
          ],
          "name": "stdout"
        }
      ]
    },
    {
      "cell_type": "code",
      "metadata": {
        "colab": {
          "base_uri": "https://localhost:8080/"
        },
        "id": "164zzZTaj3w9",
        "outputId": "a3e69adc-7d0a-4315-95ca-e46bf68cc38e"
      },
      "source": [
        "# Import plotting modules\n",
        "import matplotlib.pyplot as plt\n",
        "import seaborn as sns\n",
        "\n",
        "#Importing numpy\n",
        "import numpy as np\n",
        "import pandas as pd\n",
        "\n",
        "\n",
        "#Load a csv file at the Google drive to the colab\n",
        "file_path = r'/content/drive/MyDrive/datasets/finch_beaks_1975.csv'\n",
        "\n",
        "df0 = pd.read_csv(file_path)\n",
        "df0['year'] = 1975\n",
        "#print(df0.info())\n",
        "\n",
        "#Load a csv file at the Google drive to the colab\n",
        "file_path = r'/content/drive/MyDrive/datasets/finch_beaks_2012.csv'\n",
        "df1 = pd.read_csv(file_path)\n",
        "df1['year'] = 2012\n",
        "df1.columns = df0.columns\n",
        "print(df0.columns)\n",
        "\n",
        "#print(df1.info())\n",
        "\n",
        "df2 = pd.concat([df0, df1], axis = 0)\n",
        "\n",
        "#print(df2.info())\n",
        "#print(df2)\n",
        "\n",
        "df2 = df2[df2['species']=='scandens'][['year', 'Beak depth, mm', 'Beak length, mm']]\n",
        "df2.columns = ['year', 'beak_depth', 'beak_length']\n",
        "print(df2)\n",
        "\n",
        "#file_path = r'/content/drive/MyDrive/datasets/fortis_beak_depth_heredity.csv'\n",
        "\n",
        "#df2 = pd.read_csv(file_path)\n",
        "\n",
        "#print(df.info())"
      ],
      "execution_count": 4,
      "outputs": [
        {
          "output_type": "stream",
          "text": [
            "Index(['band', 'species', 'Beak length, mm', 'Beak depth, mm', 'year'], dtype='object')\n",
            "     year  beak_depth  beak_length\n",
            "316  1975         8.4         13.9\n",
            "317  1975         8.8         14.0\n",
            "318  1975         8.4         12.9\n",
            "319  1975         8.0         13.5\n",
            "320  1975         7.9         12.9\n",
            "..    ...         ...          ...\n",
            "243  2012         9.3         14.2\n",
            "244  2012         9.8         13.0\n",
            "245  2012         8.9         14.6\n",
            "246  2012         9.8         13.1\n",
            "247  2012         9.1         15.2\n",
            "\n",
            "[214 rows x 3 columns]\n"
          ],
          "name": "stdout"
        }
      ]
    },
    {
      "cell_type": "code",
      "metadata": {
        "colab": {
          "base_uri": "https://localhost:8080/",
          "height": 541
        },
        "id": "bNyZgyo_m1my",
        "outputId": "20cc8e37-a3fb-4329-8ab0-24e773c1b58e"
      },
      "source": [
        "# Create bee swarm plot\n",
        "_ = sns.swarmplot(x='year', y='beak_depth', data=df2)\n",
        "\n",
        "# Label the axes\n",
        "_ = plt.xlabel('year')\n",
        "_ = plt.ylabel('beak depth (mm)')\n",
        "\n",
        "# Show the plot\n",
        "plt.show()\n",
        "\n",
        "# Create bee swarm plot\n",
        "_ = sns.swarmplot(x='year', y='beak_length', data=df2)\n",
        "\n",
        "# Label the axes\n",
        "_ = plt.xlabel('year')\n",
        "_ = plt.ylabel('beak length (mm)')\n",
        "\n",
        "# Show the plot\n",
        "plt.show()"
      ],
      "execution_count": 5,
      "outputs": [
        {
          "output_type": "display_data",
          "data": {
            "image/png": "[encoded data removed]",
            "text/plain": [
              "<Figure size 432x288 with 1 Axes>"
            ]
          },
          "metadata": {
            "needs_background": "light"
          }
        },
        {
          "output_type": "display_data",
          "data": {
            "image/png": "[encoded data removed]",
            "text/plain": [
              "<Figure size 432x288 with 1 Axes>"
            ]
          },
          "metadata": {
            "needs_background": "light"
          }
        }
      ]
    },
    {
      "cell_type": "code",
      "metadata": {
        "id": "sOgYZzSl9Z6N",
        "colab": {
          "base_uri": "https://localhost:8080/",
          "height": 541
        },
        "outputId": "17a96ed9-1ca6-4334-8cd9-453fb9ff70e1"
      },
      "source": [
        "import utils.utils\n",
        "\n",
        "bd_1975 = df2[df2['year'] == 1975]['beak_depth']\n",
        "bd_2012 = df2[df2['year'] == 2012]['beak_depth']\n",
        "\n",
        "bl_1975 = df2[df2['year'] == 1975]['beak_length']\n",
        "bl_2012 = df2[df2['year'] == 2012]['beak_length']\n",
        "\n",
        "# Compute ECDFs\n",
        "x_1975, y_1975 = utils.utils.ecdf(bd_1975)\n",
        "x_2012, y_2012 = utils.utils.ecdf(bd_2012)\n",
        "\n",
        "# Plot the ECDFs\n",
        "_ = plt.plot(x_1975, y_1975, marker='.', linestyle='none')\n",
        "_ = plt.plot(x_2012, y_2012, marker='.', linestyle='none')\n",
        "\n",
        "# Set margins\n",
        "plt.margins(0.02)\n",
        "\n",
        "# Add axis labels and legend\n",
        "_ = plt.xlabel('beak depth (mm)')\n",
        "_ = plt.ylabel('ECDF')\n",
        "_ = plt.legend(('1975', '2012'), loc='lower right')\n",
        "\n",
        "# Show the plot\n",
        "plt.show()\n",
        "\n",
        "# Compute ECDFs\n",
        "x_1975, y_1975 = utils.utils.ecdf(bl_1975)\n",
        "x_2012, y_2012 = utils.utils.ecdf(bl_2012)\n",
        "\n",
        "# Plot the ECDFs\n",
        "_ = plt.plot(x_1975, y_1975, marker='.', linestyle='none')\n",
        "_ = plt.plot(x_2012, y_2012, marker='.', linestyle='none')\n",
        "\n",
        "# Set margins\n",
        "plt.margins(0.02)\n",
        "\n",
        "# Add axis labels and legend\n",
        "_ = plt.xlabel('beak lepth (mm)')\n",
        "_ = plt.ylabel('ECDF')\n",
        "_ = plt.legend(('1975', '2012'), loc='lower right')\n",
        "\n",
        "# Show the plot\n",
        "plt.show()"
      ],
      "execution_count": 6,
      "outputs": [
        {
          "output_type": "display_data",
          "data": {
            "image/png": "[encoded data removed]",
            "text/plain": [
              "<Figure size 432x288 with 1 Axes>"
            ]
          },
          "metadata": {
            "needs_background": "light"
          }
        },
        {
          "output_type": "display_data",
          "data": {
            "image/png": "[encoded data removed]",
            "text/plain": [
              "<Figure size 432x288 with 1 Axes>"
            ]
          },
          "metadata": {
            "needs_background": "light"
          }
        }
      ]
    },
    {
      "cell_type": "code",
      "metadata": {
        "colab": {
          "base_uri": "https://localhost:8080/"
        },
        "id": "dnduzH-dyXNM",
        "outputId": "3aeb3e86-d3c4-49e8-8831-c6e24e9406ad"
      },
      "source": [
        "print(type(bl_1975))"
      ],
      "execution_count": 7,
      "outputs": [
        {
          "output_type": "stream",
          "text": [
            "<class 'pandas.core.series.Series'>\n"
          ],
          "name": "stdout"
        }
      ]
    },
    {
      "cell_type": "code",
      "metadata": {
        "colab": {
          "base_uri": "https://localhost:8080/"
        },
        "id": "f5Dmg2TtBRtn",
        "outputId": "e085e685-5e85-4a1c-9b7d-c9b66492ce51"
      },
      "source": [
        "# Compute the observed difference in mean inter-no-hitter times: nht_diff_obs\n",
        "mean_diff = utils.utils.diff_of_means(bd_2012, bd_1975)\n",
        "#mean_diff = np.mean(bd_2012) - np.mean(bd_1975)\n",
        "\n",
        "# Get bootstrap replicates of means\n",
        "bs_replicates_1975 = utils.utils.draw_bs_reps(bd_1975, np.mean, size=10000)\n",
        "bs_replicates_2012 = utils.utils.draw_bs_reps(bd_2012, np.mean, size=10000)\n",
        "\n",
        "# Compute samples of difference of means: bs_diff_replicates\n",
        "bs_diff_replicates = bs_replicates_2012 - bs_replicates_1975\n",
        "\n",
        "# Compute 95% confidence interval: conf_int\n",
        "conf_int = np.percentile(bs_diff_replicates, [0.25, 97.5])\n",
        "\n",
        "# Print the results\n",
        "print('difference of means =', mean_diff, 'mm')\n",
        "print('95% confidence interval =', conf_int, 'mm')"
      ],
      "execution_count": 8,
      "outputs": [
        {
          "output_type": "stream",
          "text": [
            "difference of means = 0.2262204724409429 mm\n",
            "95% confidence interval = [-0.0060867   0.39359399] mm\n"
          ],
          "name": "stdout"
        }
      ]
    },
    {
      "cell_type": "markdown",
      "metadata": {
        "id": "uhZNhhebI-ck"
      },
      "source": [
        "#Hypothesis test\n",
        ">* The hypothesis is that the means are equal. To perform this hypothesis test, we need to shift the two data sets so that they have the same mean and then use bootstrap sampling to compute the difference of means.\n",
        ">* If the hypothesis we are testing is  that the beak depths come from the same distribution, we could use a permutation test."
      ]
    },
    {
      "cell_type": "code",
      "metadata": {
        "colab": {
          "base_uri": "https://localhost:8080/"
        },
        "id": "Pm7yKZiCJcCu",
        "outputId": "33fef023-3527-44bc-821a-c5a678eb9c0e"
      },
      "source": [
        "# Compute mean of combined data set: combined_mean\n",
        "combined_mean = np.mean(np.concatenate((bd_1975, bd_2012)))\n",
        "\n",
        "# Shift the samples\n",
        "bd_1975_shifted = bd_1975 - np.mean(bd_1975)\n",
        "bd_2012_shifted = bd_2012 - np.mean(bd_2012)\n",
        "\n",
        "# Get bootstrap replicates of shifted data sets\n",
        "bs_replicates_1975 = utils.utils.draw_bs_reps(bd_1975_shifted, np.mean, size=10000)\n",
        "bs_replicates_2012 = utils.utils.draw_bs_reps(bd_2012_shifted, np.mean, size=10000)\n",
        "\n",
        "# Compute replicates of difference of means: bs_diff_replicates\n",
        "bs_diff_replicates = bs_replicates_2012 - bs_replicates_1975\n",
        "\n",
        "# Compute the p-value\n",
        "p = np.sum(bs_diff_replicates >= mean_diff) / len(bs_diff_replicates)\n",
        "\n",
        "# Print p-value\n",
        "print('p = %.6f' %p)"
      ],
      "execution_count": 9,
      "outputs": [
        {
          "output_type": "stream",
          "text": [
            "p = 0.003700\n"
          ],
          "name": "stdout"
        }
      ]
    },
    {
      "cell_type": "markdown",
      "metadata": {
        "id": "if39u1K916xn"
      },
      "source": [
        "#Hypothesis test on Pearson correlation\n",
        ">* permute the one variables but leave the other values fixed\n",
        ">* This simulates the hypothesis that they are totally independent of each other. \n",
        ">* For each permutation, compute the Pearson correlation coefficient.\n",
        ">* Assess how many permutation replicates have a Pearson correlation coefficient greater than the observed one --> P value\n"
      ]
    },
    {
      "cell_type": "code",
      "metadata": {
        "colab": {
          "base_uri": "https://localhost:8080/",
          "height": 279
        },
        "id": "-Oxqb8shqlVB",
        "outputId": "61ad9940-463a-4cfc-9921-2848adcdc115"
      },
      "source": [
        "# Make scatter plot of 1975 data\n",
        "_ = plt.plot(bl_1975, bd_1975, marker='.',\n",
        "             linestyle='None', color='blue', alpha=0.5)\n",
        "\n",
        "# Make scatter plot of 2012 data\n",
        "_ = plt.plot(bl_2012, bd_2012, marker='.',\n",
        "            linestyle='None', color='red', alpha=0.5)\n",
        "\n",
        "\n",
        "# Label axes and make legend\n",
        "_ = plt.xlabel('beak length (mm)')\n",
        "_ = plt.ylabel('beak depth (mm)')\n",
        "_ = plt.legend(('1975', '2012'), loc='upper left')\n",
        "\n",
        "# Show the plot\n",
        "plt.show()"
      ],
      "execution_count": 10,
      "outputs": [
        {
          "output_type": "display_data",
          "data": {
            "image/png": "[encoded data removed]",
            "text/plain": [
              "<Figure size 432x288 with 1 Axes>"
            ]
          },
          "metadata": {
            "needs_background": "light"
          }
        }
      ]
    },
    {
      "cell_type": "code",
      "metadata": {
        "colab": {
          "base_uri": "https://localhost:8080/"
        },
        "id": "5AV2dSPVpN_I",
        "outputId": "f795a44c-06b2-421a-b2fd-a4a63481ecf3"
      },
      "source": [
        "# Compute observed correlation: r_obs\n",
        "r_obs = utils.utils.pearson_r(bd_1975, bl_1975)\n",
        "\n",
        "# Initialize permutation replicates: perm_replicates\n",
        "perm_replicates = np.empty(10000)\n",
        "\n",
        "# Draw replicates\n",
        "for i in range(10000):\n",
        "    # Permute illiteracy measurments: illiteracy_permuted\n",
        "    bd_1975_permuted = np.random.permutation(bd_1975)\n",
        "\n",
        "    # Compute Pearson correlation\n",
        "    perm_replicates[i] = utils.utils.pearson_r(bd_1975_permuted, bl_1975)\n",
        "\n",
        "# Compute p-value: p\n",
        "p = np.sum(perm_replicates > r_obs) /len(perm_replicates)\n",
        "print('Observed r = %.2f,' %r_obs, 'p-val = %.6f'  %p)"
      ],
      "execution_count": 11,
      "outputs": [
        {
          "output_type": "stream",
          "text": [
            "Observed r = 0.62, p-val = 0.000000\n"
          ],
          "name": "stdout"
        }
      ]
    },
    {
      "cell_type": "code",
      "metadata": {
        "colab": {
          "base_uri": "https://localhost:8080/"
        },
        "id": "QgQ4xR44qpG5",
        "outputId": "3a815c3c-cc82-43ef-94c0-eac7e9a5bb9f"
      },
      "source": [
        "# Compute observed correlation: r_obs\n",
        "r_obs = utils.utils.pearson_r(bd_2012, bl_2012)\n",
        "\n",
        "# Initialize permutation replicates: perm_replicates\n",
        "perm_replicates = np.empty(10000)\n",
        "\n",
        "# Draw replicates\n",
        "for i in range(10000):\n",
        "    # Permute illiteracy measurments: illiteracy_permuted\n",
        "    bd_1975_permuted = np.random.permutation(bd_2012)\n",
        "\n",
        "    # Compute Pearson correlation\n",
        "    perm_replicates[i] = utils.utils.pearson_r(bd_1975_permuted, bl_2012)\n",
        "\n",
        "# Compute p-value: p\n",
        "p = np.sum(perm_replicates > r_obs) /len(perm_replicates)\n",
        "print('Observed r = %.2f,' %r_obs, 'p-val = %.6f'  %p)"
      ],
      "execution_count": 12,
      "outputs": [
        {
          "output_type": "stream",
          "text": [
            "Observed r = 0.50, p-val = 0.000000\n"
          ],
          "name": "stdout"
        }
      ]
    },
    {
      "cell_type": "markdown",
      "metadata": {
        "id": "HuAJLYeerlMi"
      },
      "source": [
        "#Linear Regression\n",
        ">* Perform pairs bootstrap estimates for the regression parameters."
      ]
    },
    {
      "cell_type": "code",
      "metadata": {
        "colab": {
          "base_uri": "https://localhost:8080/"
        },
        "id": "m3uVzb9wr1PK",
        "outputId": "27b0c915-c9f6-4d69-c08b-19bc7a4db4f5"
      },
      "source": [
        "# Compute the linear regressions\n",
        "slope_1975, intercept_1975 = np.polyfit(bl_1975, bd_1975, deg=1)\n",
        "slope_2012, intercept_2012 = np.polyfit(bl_2012, bd_2012, deg=1)\n",
        "\n",
        "# Perform pairs bootstrap for the linear regressions\n",
        "bl_1975_ = bl_1975.to_numpy()\n",
        "bd_1975_ = bd_1975.to_numpy()\n",
        "bl_2012_ = bl_2012.to_numpy()\n",
        "bd_2012_ = bd_2012.to_numpy()\n",
        "bs_slope_reps_1975, bs_intercept_reps_1975 = \\\n",
        "        utils.utils.draw_bs_pairs_linreg(bl_1975_, bd_1975_, size=1000)\n",
        "bs_slope_reps_2012, bs_intercept_reps_2012 = \\\n",
        "        utils.utils.draw_bs_pairs_linreg(bl_2012_, bd_2012_, size=1000)\n",
        "# Compute confidence intervals of slopes\n",
        "slope_conf_int_1975 = np.percentile(bs_slope_reps_1975, [2.5, 97.5])\n",
        "slope_conf_int_2012 = np.percentile(bs_slope_reps_2012, [2.5, 97.5])\n",
        "intercept_conf_int_1975 = np.percentile(bs_intercept_reps_1975, [2.5, 97.5])\n",
        "intercept_conf_int_2012 = np.percentile(bs_intercept_reps_2012, [2.5, 97.5])\n",
        "\n",
        "\n",
        "# Print the results\n",
        "print('1975: slope =', slope_1975,\n",
        "      'conf int =', slope_conf_int_1975)\n",
        "print('1975: intercept =', intercept_1975,\n",
        "      'conf int =', intercept_conf_int_1975)\n",
        "print('2012: slope =', slope_2012,\n",
        "      'conf int =', slope_conf_int_2012)\n",
        "print('2012: intercept =', intercept_2012,\n",
        "      'conf int =', intercept_conf_int_2012)"
      ],
      "execution_count": 13,
      "outputs": [
        {
          "output_type": "stream",
          "text": [
            "87\n",
            "1975: slope = 0.4652051691605937 conf int = [0.33400185 0.58143604]\n",
            "1975: intercept = 2.3908752365842263 conf int = [0.75113759 4.28283418]\n",
            "2012: slope = 0.462630358835313 conf int = [0.33002793 0.60415623]\n",
            "2012: intercept = 2.9772474982360198 conf int = [1.13297036 4.71637982]\n"
          ],
          "name": "stdout"
        }
      ]
    }
  ]
}