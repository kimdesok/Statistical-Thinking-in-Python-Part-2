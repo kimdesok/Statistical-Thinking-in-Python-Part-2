{
  "nbformat": 4,
  "nbformat_minor": 0,
  "metadata": {
    "colab": {
      "name": "Stats_by_Python9.ipynb",
      "provenance": [],
      "collapsed_sections": [],
      "mount_file_id": "1R6rfwYhmyXs7_i1OR9qq-E8noviDagZs",
      "authorship_tag": "ABX9TyMbJ2+IYTlFEbqc1HTQvnNV",
      "include_colab_link": true
    },
    "kernelspec": {
      "name": "python3",
      "display_name": "Python 3"
    },
    "language_info": {
      "name": "python"
    }
  },
  "cells": [
    {
      "cell_type": "markdown",
      "metadata": {
        "id": "view-in-github",
        "colab_type": "text"
      },
      "source": [
        "<a href=\"https://colab.research.google.com/github/kimdesok/Statistical-Thinking-in-Python-Part-2/blob/main/Stats_by_Python9.ipynb\" target=\"_parent\"><img src=\"https://colab.research.google.com/assets/colab-badge.svg\" alt=\"Open In Colab\"/></a>"
      ]
    },
    {
      "cell_type": "markdown",
      "metadata": {
        "id": "vUXdyqHQwqYy"
      },
      "source": [
        "#Case studies\n",
        ">* Beak depth of birds in the Galapagos, Geospiza scandens & Geospiza fortis\n",
        ">* \n",
        ">* "
      ]
    },
    {
      "cell_type": "code",
      "metadata": {
        "id": "2W_1gYwPlMlP"
      },
      "source": [
        "#!cp -r /content/utilities/utilities.py '/content/drive/MyDrive/\"Colab Notebooks\"/utilities'"
      ],
      "execution_count": null,
      "outputs": []
    },
    {
      "cell_type": "code",
      "metadata": {
        "colab": {
          "base_uri": "https://localhost:8080/"
        },
        "id": "UkR37h_K6Ny2",
        "outputId": "995479fc-6053-407b-e43a-83c5e63ec6fb"
      },
      "source": [
        "#Importing modules\n",
        "import sys\n",
        "sys.path.insert(0,'/content/drive/MyDrive/Colab Notebooks')\n",
        "sys.path.insert(0,'/content/drive/MyDrive')\n",
        "print(sys.path)"
      ],
      "execution_count": 28,
      "outputs": [
        {
          "output_type": "stream",
          "text": [
            "['/content/drive/MyDrive', '/content/drive/MyDrive/Colab Notebooks', '', '/content', '/env/python', '/usr/lib/python37.zip', '/usr/lib/python3.7', '/usr/lib/python3.7/lib-dynload', '/usr/local/lib/python3.7/dist-packages', '/usr/lib/python3/dist-packages', '/usr/local/lib/python3.7/dist-packages/IPython/extensions', '/root/.ipython']\n"
          ],
          "name": "stdout"
        }
      ]
    },
    {
      "cell_type": "code",
      "metadata": {
        "colab": {
          "base_uri": "https://localhost:8080/"
        },
        "id": "164zzZTaj3w9",
        "outputId": "eddc316c-1e39-49d6-de19-befc97641a3c"
      },
      "source": [
        "# Import plotting modules\n",
        "import matplotlib.pyplot as plt\n",
        "import seaborn as sns\n",
        "\n",
        "#Importing numpy\n",
        "import numpy as np\n",
        "import pandas as pd\n",
        "\n",
        "\n",
        "#Load a csv file at the Google drive to the colab\n",
        "file_path = r'/content/drive/MyDrive/datasets/finch_beaks_1975.csv'\n",
        "\n",
        "df0 = pd.read_csv(file_path)\n",
        "df0['year'] = 1975\n",
        "print(df0.info())\n",
        "\n",
        "#Load a csv file at the Google drive to the colab\n",
        "file_path = r'/content/drive/MyDrive/datasets/finch_beaks_2012.csv'\n",
        "df1 = pd.read_csv(file_path)\n",
        "df1['year'] = 2012\n",
        "df1.columns = df0.columns\n",
        "\n",
        "print(df1.info())\n",
        "\n",
        "df2 = pd.concat([df0, df1], axis = 0)\n",
        "\n",
        "print(df2.info())\n",
        "print(df2)\n",
        "\n",
        "#file_path = r'/content/drive/MyDrive/datasets/fortis_beak_depth_heredity.csv'\n",
        "\n",
        "#df2 = pd.read_csv(file_path)\n",
        "\n",
        "#print(df.info())\n",
        "\n",
        "df2 = df2[df2['species']=='scandens'][['year', 'Beak depth, mm']]\n",
        "df2.columns = ['year', 'beak_depth']\n",
        "print(df2)\n",
        "#treated = df[df['Treatment']=='Pesticide']['AliveSperm']"
      ],
      "execution_count": 37,
      "outputs": [
        {
          "output_type": "stream",
          "text": [
            "<class 'pandas.core.frame.DataFrame'>\n",
            "RangeIndex: 403 entries, 0 to 402\n",
            "Data columns (total 5 columns):\n",
            " #   Column           Non-Null Count  Dtype  \n",
            "---  ------           --------------  -----  \n",
            " 0   band             403 non-null    int64  \n",
            " 1   species          403 non-null    object \n",
            " 2   Beak length, mm  403 non-null    float64\n",
            " 3   Beak depth, mm   403 non-null    float64\n",
            " 4   year             403 non-null    int64  \n",
            "dtypes: float64(2), int64(2), object(1)\n",
            "memory usage: 15.9+ KB\n",
            "None\n",
            "<class 'pandas.core.frame.DataFrame'>\n",
            "RangeIndex: 248 entries, 0 to 247\n",
            "Data columns (total 5 columns):\n",
            " #   Column           Non-Null Count  Dtype  \n",
            "---  ------           --------------  -----  \n",
            " 0   band             248 non-null    int64  \n",
            " 1   species          248 non-null    object \n",
            " 2   Beak length, mm  248 non-null    float64\n",
            " 3   Beak depth, mm   248 non-null    float64\n",
            " 4   year             248 non-null    int64  \n",
            "dtypes: float64(2), int64(2), object(1)\n",
            "memory usage: 9.8+ KB\n",
            "None\n",
            "<class 'pandas.core.frame.DataFrame'>\n",
            "Int64Index: 651 entries, 0 to 247\n",
            "Data columns (total 5 columns):\n",
            " #   Column           Non-Null Count  Dtype  \n",
            "---  ------           --------------  -----  \n",
            " 0   band             651 non-null    int64  \n",
            " 1   species          651 non-null    object \n",
            " 2   Beak length, mm  651 non-null    float64\n",
            " 3   Beak depth, mm   651 non-null    float64\n",
            " 4   year             651 non-null    int64  \n",
            "dtypes: float64(2), int64(2), object(1)\n",
            "memory usage: 30.5+ KB\n",
            "None\n",
            "      band   species  Beak length, mm  Beak depth, mm  year\n",
            "0        2    fortis              9.4             8.0  1975\n",
            "1        9    fortis              9.2             8.3  1975\n",
            "2       12    fortis              9.5             7.5  1975\n",
            "3       15    fortis              9.5             8.0  1975\n",
            "4      305    fortis             11.5             9.9  1975\n",
            "..     ...       ...              ...             ...   ...\n",
            "243  21295  scandens             14.2             9.3  2012\n",
            "244  21297  scandens             13.0             9.8  2012\n",
            "245  21340  scandens             14.6             8.9  2012\n",
            "246  21342  scandens             13.1             9.8  2012\n",
            "247  21347  scandens             15.2             9.1  2012\n",
            "\n",
            "[651 rows x 5 columns]\n",
            "     year  beak_depth\n",
            "316  1975         8.4\n",
            "317  1975         8.8\n",
            "318  1975         8.4\n",
            "319  1975         8.0\n",
            "320  1975         7.9\n",
            "..    ...         ...\n",
            "243  2012         9.3\n",
            "244  2012         9.8\n",
            "245  2012         8.9\n",
            "246  2012         9.8\n",
            "247  2012         9.1\n",
            "\n",
            "[214 rows x 2 columns]\n"
          ],
          "name": "stdout"
        }
      ]
    },
    {
      "cell_type": "code",
      "metadata": {
        "colab": {
          "base_uri": "https://localhost:8080/",
          "height": 279
        },
        "id": "bNyZgyo_m1my",
        "outputId": "92b35b3c-6337-40e6-a4a0-aeeb092d1fea"
      },
      "source": [
        "# Create bee swarm plot\n",
        "_ = sns.swarmplot(x='year', y='beak_depth', data=df2)\n",
        "\n",
        "# Label the axes\n",
        "_ = plt.xlabel('year')\n",
        "_ = plt.ylabel('beak depth (mm)')\n",
        "\n",
        "# Show the plot\n",
        "plt.show()"
      ],
      "execution_count": 38,
      "outputs": [
        {
          "output_type": "display_data",
          "data": {
            "image/png": "[encoded data removed]",
            "text/plain": [
              "<Figure size 432x288 with 1 Axes>"
            ]
          },
          "metadata": {
            "needs_background": "light"
          }
        }
      ]
    },
    {
      "cell_type": "code",
      "metadata": {
        "id": "sOgYZzSl9Z6N",
        "colab": {
          "base_uri": "https://localhost:8080/",
          "height": 279
        },
        "outputId": "6c6f8248-34aa-4cdb-c618-fd9833f57115"
      },
      "source": [
        "import utils.utils\n",
        "\n",
        "bd_1975 = df2[df2['year'] == 1975]['beak_depth']\n",
        "bd_2012 = df2[df2['year'] == 2012]['beak_depth']\n",
        "# Compute ECDFs\n",
        "x_1975, y_1975 = utils.utils.ecdf(bd_1975)\n",
        "x_2012, y_2012 = utils.utils.ecdf(bd_2012)\n",
        "\n",
        "# Plot the ECDFs\n",
        "_ = plt.plot(x_1975, y_1975, marker='.', linestyle='none')\n",
        "_ = plt.plot(x_2012, y_2012, marker='.', linestyle='none')\n",
        "\n",
        "# Set margins\n",
        "plt.margins(0.02)\n",
        "\n",
        "# Add axis labels and legend\n",
        "_ = plt.xlabel('beak depth (mm)')\n",
        "_ = plt.ylabel('ECDF')\n",
        "_ = plt.legend(('1975', '2012'), loc='lower right')\n",
        "\n",
        "# Show the plot\n",
        "plt.show()"
      ],
      "execution_count": 40,
      "outputs": [
        {
          "output_type": "display_data",
          "data": {
            "image/png": "[encoded data removed]",
            "text/plain": [
              "<Figure size 432x288 with 1 Axes>"
            ]
          },
          "metadata": {
            "needs_background": "light"
          }
        }
      ]
    },
    {
      "cell_type": "code",
      "metadata": {
        "colab": {
          "base_uri": "https://localhost:8080/"
        },
        "id": "f5Dmg2TtBRtn",
        "outputId": "7f0dcfc3-fc54-4637-ac4b-5a54f97f976e"
      },
      "source": [
        "# Compute the observed difference in mean inter-no-hitter times: nht_diff_obs\n",
        "mean_diff = utils.utils.diff_of_means(bd_2012, bd_1975)\n",
        "#mean_diff = np.mean(bd_2012) - np.mean(bd_1975)\n",
        "\n",
        "# Get bootstrap replicates of means\n",
        "bs_replicates_1975 = utils.utils.draw_bs_reps(bd_1975, np.mean, size=10000)\n",
        "bs_replicates_2012 = utils.utils.draw_bs_reps(bd_2012, np.mean, size=10000)\n",
        "\n",
        "# Compute samples of difference of means: bs_diff_replicates\n",
        "bs_diff_replicates = bs_replicates_2012 - bs_replicates_1975\n",
        "\n",
        "# Compute 95% confidence interval: conf_int\n",
        "conf_int = np.percentile(bs_diff_replicates, [0.25, 97.5])\n",
        "\n",
        "# Print the results\n",
        "print('difference of means =', mean_diff, 'mm')\n",
        "print('95% confidence interval =', conf_int, 'mm')"
      ],
      "execution_count": 47,
      "outputs": [
        {
          "output_type": "stream",
          "text": [
            "difference of means = 0.2262204724409429 mm\n",
            "95% confidence interval = [-0.02531344  0.39065981] mm\n"
          ],
          "name": "stdout"
        }
      ]
    },
    {
      "cell_type": "markdown",
      "metadata": {
        "id": "if39u1K916xn"
      },
      "source": [
        "#Hypothesis test on Pearson correlation\n",
        ">* permute the one variables but leave the other values fixed\n",
        ">* This simulates the hypothesis that they are totally independent of each other. \n",
        ">* For each permutation, compute the Pearson correlation coefficient.\n",
        ">* Assess how many permutation replicates have a Pearson correlation coefficient greater than the observed one --> P value\n"
      ]
    },
    {
      "cell_type": "code",
      "metadata": {
        "colab": {
          "base_uri": "https://localhost:8080/"
        },
        "id": "5AV2dSPVpN_I",
        "outputId": "f69e1063-ca9e-43e7-c395-2dd32b8dab16"
      },
      "source": [
        "# Compute observed correlation: r_obs\n",
        "r_obs = utils.utils.pearson_r(illiteracy, fertility)\n",
        "\n",
        "# Initialize permutation replicates: perm_replicates\n",
        "perm_replicates = np.empty(10000)\n",
        "\n",
        "# Draw replicates\n",
        "for i in range(10000):\n",
        "    # Permute illiteracy measurments: illiteracy_permuted\n",
        "    illiteracy_permuted = np.random.permutation(illiteracy)\n",
        "\n",
        "    # Compute Pearson correlation\n",
        "    perm_replicates[i] = utils.utils.pearson_r(illiteracy_permuted, fertility)\n",
        "\n",
        "# Compute p-value: p\n",
        "p = np.sum(perm_replicates > r_obs) /len(perm_replicates)\n",
        "print('Observed r = %.2f,' %r_obs, 'p-val = %.6f'  %p)"
      ],
      "execution_count": null,
      "outputs": [
        {
          "output_type": "stream",
          "text": [
            "Observed r = 0.80, p-val = 0.000000\n"
          ],
          "name": "stdout"
        }
      ]
    },
    {
      "cell_type": "code",
      "metadata": {
        "colab": {
          "base_uri": "https://localhost:8080/"
        },
        "id": "Q7s_OMt0Gm5G",
        "outputId": "1d95769c-8e56-4c88-88f5-676625c3cb76"
      },
      "source": [
        "#Print multiple variables\n",
        "#Pass it as tuple\n",
        "print(\"Observed correlation is %.2f with p-value %.6f\" % (r_obs, p))\n",
        "#Pass it as dictionary\n",
        "print(\"Observed correlation is %(r).2f with p-value %(p).6f\"  % {'r': r_obs, 'p': p})\n",
        "#String formatting\n",
        "print(\"Observed correlation is {} with p-value {}\".format(r_obs, p))\n",
        "#String formatting with numbers satrting with 0\n",
        "print(\"Observed correlation is {0} with p-value {1}\".format(r_obs, p))\n",
        "#String formatting with explilcit names\n",
        "print(\"Observed correlation is {r} with p-value {p}\".format(r=r_obs, p=p))\n",
        "#Use the new f-string formatting in Python 3.6:\n",
        "print(f'Observed correlation is {r_obs} with p-value {p}')"
      ],
      "execution_count": null,
      "outputs": [
        {
          "output_type": "stream",
          "text": [
            "Observed correlation is 0.80 with p-value 0.000000\n",
            "Observed correlation is 0.80 with p-value 0.000000\n",
            "Observed correlation is 0.8041324026815344 with p-value 0.0\n",
            "Observed correlation is 0.8041324026815344 with p-value 0.0\n",
            "Observed correlation is 0.8041324026815344 with p-value 0.0\n",
            "Observed correlation is 0.8041324026815344 with p-value 0.0\n"
          ],
          "name": "stdout"
        }
      ]
    },
    {
      "cell_type": "markdown",
      "metadata": {
        "id": "_uZLeA05c_Me"
      },
      "source": [
        "#Neonicotinoid insecticides have unintended consequences?\n",
        ">* A study of pesticides harmful effects on bees' sperm counts.\n",
        ">* Start with the usual EDA\n",
        ">* Test the Ho: male bees exposed to insecticide have the same number of sperm counts compared to the untreated ones."
      ]
    },
    {
      "cell_type": "code",
      "metadata": {
        "colab": {
          "base_uri": "https://localhost:8080/",
          "height": 279
        },
        "id": "WknMRKH1c78H",
        "outputId": "966b980d-27fe-44ac-da17-9221ad9dc16b"
      },
      "source": [
        "# Compute x,y values for ECDFs\n",
        "x_control, y_control = utils.utils.ecdf(control)\n",
        "x_treated, y_treated = utils.utils.ecdf(treated)\n",
        "\n",
        "# Plot the ECDFs\n",
        "plt.plot(x_control, y_control, marker='.', linestyle='none')\n",
        "plt.plot(x_treated, y_treated, marker='.', linestyle='none')\n",
        "\n",
        "# Set the margins\n",
        "plt.margins(0.02)\n",
        "\n",
        "# Add a legend\n",
        "plt.legend(('control', 'treated'), loc='lower right')\n",
        "\n",
        "# Label axes and show plot\n",
        "plt.xlabel('millions of alive sperm per mL')\n",
        "plt.ylabel('ECDF')\n",
        "plt.show()\n",
        "\n"
      ],
      "execution_count": null,
      "outputs": [
        {
          "output_type": "display_data",
          "data": {
            "image/png": "[encoded data removed]",
            "text/plain": [
              "<Figure size 432x288 with 1 Axes>"
            ]
          },
          "metadata": {
            "needs_background": "light"
          }
        }
      ]
    },
    {
      "cell_type": "code",
      "metadata": {
        "colab": {
          "base_uri": "https://localhost:8080/"
        },
        "id": "FVcE3lM7da4O",
        "outputId": "f8c76b62-b8f2-4b39-ea98-b92d6f130bf1"
      },
      "source": [
        "# Compute the difference in mean sperm count: diff_means\n",
        "diff_means = np.mean(control) - np.mean(treated)\n",
        "\n",
        "# Compute mean of pooled data: mean_count\n",
        "mean_count = np.mean(np.concatenate((control, treated)))\n",
        "\n",
        "# Generate shifted data sets\n",
        "control_shifted = control - np.mean(control) + mean_count\n",
        "treated_shifted = treated - np.mean(treated) + mean_count\n",
        "\n",
        "# Generate bootstrap replicates\n",
        "bs_reps_control = utils.utils.draw_bs_reps(control_shifted,\n",
        "                       np.mean, size=50000)\n",
        "bs_reps_treated = utils.utils.draw_bs_reps(treated_shifted,\n",
        "                       np.mean, size=50000)\n",
        "\n",
        "# Get replicates of difference of means: bs_replicates\n",
        "bs_replicates = bs_reps_control - bs_reps_treated\n",
        "\n",
        "# Compute and print p-value: p\n",
        "p = np.sum(bs_replicates >= np.mean(control) - np.mean(treated)) \\\n",
        "            / len(bs_replicates)\n",
        "print('p-value = %.100f'% p)\n"
      ],
      "execution_count": null,
      "outputs": [
        {
          "output_type": "stream",
          "text": [
            "p-value = 0.0000400000000000000032721221565612523818344925530254840850830078125000000000000000000000000000000000\n"
          ],
          "name": "stdout"
        }
      ]
    },
    {
      "cell_type": "code",
      "metadata": {
        "colab": {
          "base_uri": "https://localhost:8080/",
          "height": 279
        },
        "id": "elCdATtoffjf",
        "outputId": "b4b52144-b55a-47c8-c39a-ad447fc69300"
      },
      "source": [
        "# Compute x,y values for ECDFs\n",
        "x_control, y_control = utils.utils.ecdf(bs_reps_control)\n",
        "x_treated, y_treated = utils.utils.ecdf(bs_reps_treated)\n",
        "\n",
        "# Plot the ECDFs\n",
        "plt.plot(x_control, y_control)\n",
        "plt.plot(x_treated, y_treated)\n",
        "\n",
        "# Set the margins\n",
        "plt.margins(0.02)\n",
        "\n",
        "# Add a legend\n",
        "plt.legend(('control', 'treated'), loc='lower right')\n",
        "\n",
        "# Label axes and show plot\n",
        "plt.xlabel('millions of alive sperm per mL')\n",
        "plt.ylabel('ECDF')\n",
        "plt.show()"
      ],
      "execution_count": null,
      "outputs": [
        {
          "output_type": "display_data",
          "data": {
            "image/png": "[encoded data removed]",
            "text/plain": [
              "<Figure size 432x288 with 1 Axes>"
            ]
          },
          "metadata": {
            "needs_background": "light"
          }
        }
      ]
    },
    {
      "cell_type": "code",
      "metadata": {
        "colab": {
          "base_uri": "https://localhost:8080/"
        },
        "id": "CAZUN-3ARikP",
        "outputId": "e710f813-577b-4fbe-db66-a3d24bdf3ef6"
      },
      "source": [
        "!pip show numpy\n",
        "!pip show pandas\n",
        "!pip show matplotlib"
      ],
      "execution_count": null,
      "outputs": [
        {
          "output_type": "stream",
          "text": [
            "Name: numpy\n",
            "Version: 1.19.5\n",
            "Summary: NumPy is the fundamental package for array computing with Python.\n",
            "Home-page: https://www.numpy.org\n",
            "Author: Travis E. Oliphant et al.\n",
            "Author-email: None\n",
            "License: BSD\n",
            "Location: /usr/local/lib/python3.7/dist-packages\n",
            "Requires: \n",
            "Required-by: yellowbrick, xgboost, xarray, wordcloud, torchvision, torchtext, tifffile, thinc, Theano-PyMC, tensorflow, tensorflow-probability, tensorflow-hub, tensorflow-datasets, tensorboard, tables, statsmodels, spacy, sklearn-pandas, seaborn, scs, scipy, scikit-learn, resampy, qdldl, PyWavelets, python-louvain, pystan, pysndfile, pymc3, pyerfa, pyemd, pyarrow, plotnine, patsy, pandas, osqp, opt-einsum, opencv-python, opencv-contrib-python, numexpr, numba, nibabel, netCDF4, moviepy, mlxtend, mizani, missingno, matplotlib, matplotlib-venn, lightgbm, librosa, Keras-Preprocessing, kapre, jpeg4py, jaxlib, jax, imgaug, imbalanced-learn, imageio, hyperopt, holoviews, h5py, gym, gensim, folium, fix-yahoo-finance, fbprophet, fastprogress, fastdtw, fastai, fa2, ecos, daft, cvxpy, cufflinks, cmdstanpy, cftime, Bottleneck, bokeh, blis, autograd, atari-py, astropy, arviz, altair, albumentations\n",
            "Name: pandas\n",
            "Version: 1.1.5\n",
            "Summary: Powerful data structures for data analysis, time series, and statistics\n",
            "Home-page: https://pandas.pydata.org\n",
            "Author: None\n",
            "Author-email: None\n",
            "License: BSD\n",
            "Location: /usr/local/lib/python3.7/dist-packages\n",
            "Requires: pytz, numpy, python-dateutil\n",
            "Required-by: xarray, vega-datasets, statsmodels, sklearn-pandas, seaborn, pymc3, plotnine, pandas-profiling, pandas-gbq, pandas-datareader, mlxtend, mizani, holoviews, gspread-dataframe, google-colab, fix-yahoo-finance, fbprophet, fastai, cufflinks, cmdstanpy, arviz, altair\n",
            "Name: matplotlib\n",
            "Version: 3.2.2\n",
            "Summary: Python plotting package\n",
            "Home-page: https://matplotlib.org\n",
            "Author: John D. Hunter, Michael Droettboom\n",
            "Author-email: matplotlib-users@python.org\n",
            "License: PSF\n",
            "Location: /usr/local/lib/python3.7/dist-packages\n",
            "Requires: kiwisolver, python-dateutil, numpy, pyparsing, cycler\n",
            "Required-by: yellowbrick, seaborn, scikit-image, pycocotools, plotnine, pandas-profiling, mlxtend, mizani, missingno, matplotlib-venn, keras-vis, imgaug, fbprophet, fastai, descartes, daft, arviz\n"
          ],
          "name": "stdout"
        }
      ]
    }
  ]
}