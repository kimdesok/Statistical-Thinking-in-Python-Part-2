{
  "nbformat": 4,
  "nbformat_minor": 0,
  "metadata": {
    "colab": {
      "name": "Stats_by_Python8ipynb",
      "provenance": [],
      "collapsed_sections": [],
      "mount_file_id": "1BGF9FYIS53t5NhsN2VPUB9uALOeYxT3N",
      "authorship_tag": "ABX9TyNKiytS5C8s6my+tMGbS8AA",
      "include_colab_link": true
    },
    "kernelspec": {
      "name": "python3",
      "display_name": "Python 3"
    },
    "language_info": {
      "name": "python"
    }
  },
  "cells": [
    {
      "cell_type": "markdown",
      "metadata": {
        "id": "view-in-github",
        "colab_type": "text"
      },
      "source": [
        "<a href=\"https://colab.research.google.com/github/kimdesok/Statistical-Thinking-in-Python-Part-2/blob/main/Stats_by_Python8ipynb.ipynb\" target=\"_parent\"><img src=\"https://colab.research.google.com/assets/colab-badge.svg\" alt=\"Open In Colab\"/></a>"
      ]
    },
    {
      "cell_type": "markdown",
      "metadata": {
        "id": "vUXdyqHQwqYy"
      },
      "source": [
        "#Hypothesis test examples\n",
        ">* Define the null hypothesis.\n",
        ">* Figure out how to simulate it.\n",
        ">* Determine how to test it by defining the p value - what it means to be more extreme in order to compute the p value."
      ]
    },
    {
      "cell_type": "code",
      "metadata": {
        "id": "164zzZTaj3w9"
      },
      "source": [
        "# Import plotting modules\n",
        "import matplotlib.pyplot as plt\n",
        "import seaborn as sns\n",
        "\n",
        "#Importing numpy\n",
        "import numpy as np\n",
        "import pandas as pd\n",
        "\n",
        "#Load a csv file at the Google drive to the colab\n",
        "file_path = r'/content/drive/MyDrive/datasets/mlb_nohitters.csv'\n",
        "nohitter_game_no = np.loadtxt(fname=file_path, skiprows=1, usecols=range(0,2), delimiter=',')\n",
        "nht_dead = []\n",
        "nht_live = []\n",
        "#print(nohitter_game_no)\n",
        "for i in range(len(nohitter_game_no)-1):\n",
        "  nohitter_times = nohitter_game_no[i+1,1] - nohitter_game_no[i,1]\n",
        "  if(nohitter_game_no[i,0] < 19200000) :\n",
        "    nht_dead.append(nohitter_times)\n",
        "    #print(nohitter_game_no[i,0], nohitter_times)\n",
        "  else:\n",
        "    nht_live.append(nohitter_times)"
      ],
      "execution_count": null,
      "outputs": []
    },
    {
      "cell_type": "code",
      "metadata": {
        "id": "7m4TBgyPpRID"
      },
      "source": [
        "def ecdf(data):\n",
        "    \"\"\"Compute ECDF for a one-dimensional array of measurements.\"\"\"\n",
        "    # Number of data points: n\n",
        "    n = len(data)\n",
        "\n",
        "    # x-data for the ECDF: x\n",
        "    x = np.sort(data)\n",
        "\n",
        "    # y-data for the ECDF: y\n",
        "    y = np.arange(1, n+1) / n\n",
        "\n",
        "    return x, y"
      ],
      "execution_count": 70,
      "outputs": []
    },
    {
      "cell_type": "code",
      "metadata": {
        "id": "cNt9qvrsBo3F"
      },
      "source": [
        "def permutation_sample(data1, data2):\n",
        "    \"\"\"Generate a permutation sample from two data sets.\"\"\"\n",
        "\n",
        "    # Concatenate the data sets: data\n",
        "    data = np.concatenate((data1, data2))\n",
        "\n",
        "    # Permute the concatenated array: permuted_data\n",
        "    permuted_data = np.random.permutation(data)\n",
        "\n",
        "    # Split the permuted array into two: perm_sample_1, perm_sample_2\n",
        "    perm_sample_1 = permuted_data[:len(data1)]\n",
        "    perm_sample_2 = permuted_data[len(data1):]\n",
        "\n",
        "    return perm_sample_1, perm_sample_2"
      ],
      "execution_count": 71,
      "outputs": []
    },
    {
      "cell_type": "code",
      "metadata": {
        "id": "OW3PBR3WMJ2O"
      },
      "source": [
        "def draw_perm_reps(data_1, data_2, func, size=1):\n",
        "    \"\"\"Generate multiple permutation replicates.\"\"\"\n",
        "\n",
        "    # Initialize array of replicates: perm_replicates\n",
        "    perm_replicates = np.empty(size)\n",
        "\n",
        "    for i in range(size):\n",
        "        # Generate permutation sample\n",
        "        perm_sample_1, perm_sample_2 = permutation_sample(data_1, data_2)\n",
        "\n",
        "        # Compute the test statistic\n",
        "        perm_replicates[i] = func(perm_sample_1, perm_sample_2)\n",
        "\n",
        "    return perm_replicates"
      ],
      "execution_count": 73,
      "outputs": []
    },
    {
      "cell_type": "code",
      "metadata": {
        "id": "JA-Mg7DKohkO"
      },
      "source": [
        "def bootstrap_replicate_1d(data, func):\n",
        "    \"\"\"Generate bootstrap replicate of 1D data.\"\"\"\n",
        "    bs_sample = np.random.choice(data, len(data))\n",
        "    return func(bs_sample)\n",
        "    \n",
        "def draw_bs_reps(data, func, size=1):\n",
        "    \"\"\"Draw bootstrap replicates.\"\"\"\n",
        "\n",
        "    # Initialize array of replicates: bs_replicates\n",
        "    bs_replicates = np.empty(size)\n",
        "\n",
        "    # Generate replicates\n",
        "    for i in range(size):\n",
        "        bs_replicates[i] = bootstrap_replicate_1d(data, func)\n",
        "\n",
        "    return bs_replicates"
      ],
      "execution_count": 76,
      "outputs": []
    },
    {
      "cell_type": "code",
      "metadata": {
        "id": "iCauPQEaSiqQ"
      },
      "source": [
        "def diff_of_means(data_1, data_2):\n",
        "    \"\"\"Difference in means of two arrays.\"\"\"\n",
        "\n",
        "    # The difference of means of data_1, data_2: diff\n",
        "    diff = np.mean(data_1) - np.mean(data_2)\n",
        "\n",
        "    return diff\n"
      ],
      "execution_count": null,
      "outputs": []
    },
    {
      "cell_type": "code",
      "metadata": {
        "colab": {
          "base_uri": "https://localhost:8080/",
          "height": 296
        },
        "id": "K2rGGm01ngjQ",
        "outputId": "e5fa594e-e2c8-432e-ddcc-9638d129bb8e"
      },
      "source": [
        "# Create an ECDF from real data: x, y\n",
        "x, y = ecdf(nht_dead)\n",
        "\n",
        "# Create a CDF from theoretical samples: x_theor, y_theor\n",
        "x_, y_ = ecdf(nht_live)\n",
        "\n",
        "# Overlay the plots\n",
        "plt.plot(x_, y_, marker='.', linestyle='none')\n",
        "plt.plot(x, y, marker='.', linestyle='none')\n",
        "\n",
        "# Margins and axis labels\n",
        "plt.legend(['After the rule', 'Before the rule'])\n",
        "plt.margins(0.02)\n",
        "plt.xlabel('Games between no-hitters')\n",
        "plt.ylabel('CDF')"
      ],
      "execution_count": 99,
      "outputs": [
        {
          "output_type": "execute_result",
          "data": {
            "text/plain": [
              "Text(0, 0.5, 'CDF')"
            ]
          },
          "metadata": {},
          "execution_count": 99
        },
        {
          "output_type": "display_data",
          "data": {
            "image/png": "[encoded data removed]",
            "text/plain": [
              "<Figure size 432x288 with 1 Axes>"
            ]
          },
          "metadata": {
            "needs_background": "light"
          }
        }
      ]
    },
    {
      "cell_type": "code",
      "metadata": {
        "colab": {
          "base_uri": "https://localhost:8080/"
        },
        "id": "f5Dmg2TtBRtn",
        "outputId": "51f230f2-4e55-4d05-86f2-ecbac8dd634a"
      },
      "source": [
        "# Compute the observed difference in mean inter-no-hitter times: nht_diff_obs\n",
        "nht_diff_obs = diff_of_means(nht_dead, nht_live)\n",
        "\n",
        "# Acquire 10,000 permutation replicates of difference in mean no-hitter time: perm_replicates\n",
        "perm_replicates = draw_perm_reps(nht_dead, nht_live, diff_of_means, size=10000)\n",
        "\n",
        "\n",
        "# Compute and print the p-value: p\n",
        "p = np.sum(perm_replicates <= nht_diff_obs)/len(perm_replicates)\n",
        "print('p-val =', p)"
      ],
      "execution_count": 98,
      "outputs": [
        {
          "output_type": "stream",
          "text": [
            "p-val = 0.0002\n"
          ],
          "name": "stdout"
        }
      ]
    }
  ]
}