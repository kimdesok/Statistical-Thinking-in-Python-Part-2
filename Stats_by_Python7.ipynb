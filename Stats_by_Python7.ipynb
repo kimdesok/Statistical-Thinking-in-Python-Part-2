{
  "nbformat": 4,
  "nbformat_minor": 0,
  "metadata": {
    "colab": {
      "name": "Stats_by_Python7.ipynb",
      "provenance": [],
      "collapsed_sections": [],
      "mount_file_id": "1BGF9FYIS53t5NhsN2VPUB9uALOeYxT3N",
      "authorship_tag": "ABX9TyNyfrOZdzrVT5uzRTNxY546",
      "include_colab_link": true
    },
    "kernelspec": {
      "name": "python3",
      "display_name": "Python 3"
    },
    "language_info": {
      "name": "python"
    }
  },
  "cells": [
    {
      "cell_type": "markdown",
      "metadata": {
        "id": "view-in-github",
        "colab_type": "text"
      },
      "source": [
        "<a href=\"https://colab.research.google.com/github/kimdesok/Statistical-Thinking-in-Python-Part-2/blob/main/Stats_by_Python7.ipynb\" target=\"_parent\"><img src=\"https://colab.research.google.com/assets/colab-badge.svg\" alt=\"Open In Colab\"/></a>"
      ]
    },
    {
      "cell_type": "markdown",
      "metadata": {
        "id": "vUXdyqHQwqYy"
      },
      "source": [
        "#Hypothesis testing\n",
        ">* Null hypothesis - H0 = no difference vs. Ha = any significant difference. \n",
        ">* The question can be answered by formulation & simulation.\n",
        ">* Premutation -   Two samples are mixed by a random reordering of entries in an array. Then what?  \n"
      ]
    },
    {
      "cell_type": "code",
      "metadata": {
        "colab": {
          "base_uri": "https://localhost:8080/"
        },
        "id": "164zzZTaj3w9",
        "outputId": "310957ea-e67f-4e48-a205-ecbed930d1f0"
      },
      "source": [
        "# Import plotting modules\n",
        "import matplotlib.pyplot as plt\n",
        "import seaborn as sns\n",
        "\n",
        "#Importing numpy\n",
        "import numpy as np\n",
        "\n",
        "import pandas as pd\n",
        "\n",
        "#Load a csv file at the Google drive to the colab\n",
        "file_path = r'/content/drive/MyDrive/datasets/sheffield_weather_station.csv'\n",
        "rainfall = np.loadtxt(fname=file_path, skiprows=9, usecols=(1,5)) #delimiter default is whitespace\n",
        "#print(rainfall)\n",
        "\n",
        "file_path = r'/content/drive/MyDrive/datasets/frog_tongue.csv'\n",
        "print(file_path)\n",
        "df = pd.read_csv(file_path, skiprows=14)\n",
        "print(df.columns)\n",
        "cols = ['ID', 'impact force (mN)']\n",
        "print(df[cols])\n",
        "\n",
        "force_a = df[df['ID'] == 'I']['impact force (mN)']\n",
        "force_b = df[df['ID'] == 'II']['impact force (mN)']"
      ],
      "execution_count": 57,
      "outputs": [
        {
          "output_type": "stream",
          "text": [
            "/content/drive/MyDrive/datasets/frog_tongue.csv\n",
            "Index(['date', 'ID', 'trial number', 'impact force (mN)', 'impact time (ms)',\n",
            "       'impact force / body weight', 'adhesive force (mN)',\n",
            "       'time frog pulls on target (ms)', 'adhesive force / body weight',\n",
            "       'adhesive impulse (N-s)', 'total contact area (mm2)',\n",
            "       'contact area without mucus (mm2)',\n",
            "       'contact area with mucus / contact area without mucus',\n",
            "       'contact pressure (Pa)', 'adhesive strength (Pa)'],\n",
            "      dtype='object')\n",
            "    ID  impact force (mN)\n",
            "0    I               1205\n",
            "1    I               2527\n",
            "2    I               1745\n",
            "3    I               1556\n",
            "4    I                493\n",
            "..  ..                ...\n",
            "75  IV                402\n",
            "76  IV                605\n",
            "77  IV                711\n",
            "78  IV                614\n",
            "79  IV                468\n",
            "\n",
            "[80 rows x 2 columns]\n"
          ],
          "name": "stdout"
        }
      ]
    },
    {
      "cell_type": "code",
      "metadata": {
        "id": "cNt9qvrsBo3F"
      },
      "source": [
        "def permutation_sample(data1, data2):\n",
        "    \"\"\"Generate a permutation sample from two data sets.\"\"\"\n",
        "\n",
        "    # Concatenate the data sets: data\n",
        "    data = np.concatenate((data1, data2))\n",
        "\n",
        "    # Permute the concatenated array: permuted_data\n",
        "    permuted_data = np.random.permutation(data)\n",
        "\n",
        "    # Split the permuted array into two: perm_sample_1, perm_sample_2\n",
        "    perm_sample_1 = permuted_data[:len(data1)]\n",
        "    perm_sample_2 = permuted_data[len(data1):]\n",
        "\n",
        "    return perm_sample_1, perm_sample_2"
      ],
      "execution_count": 1,
      "outputs": []
    },
    {
      "cell_type": "code",
      "metadata": {
        "colab": {
          "base_uri": "https://localhost:8080/",
          "height": 279
        },
        "id": "J5kdqSV7BqnV",
        "outputId": "beb9f9f9-210c-4412-c265-046b2de3cc09"
      },
      "source": [
        "# Slice the weather data to get june data and november data \n",
        "rain_june = rainfall[rainfall[:, 0]==6][:,1]\n",
        "rain_november = rainfall[rainfall[:, 0]==11][:,1]\n",
        "\n",
        "#print(rain_june)\n",
        "\n",
        "for i in range(50):\n",
        "    # Generate permutation samples\n",
        "    perm_sample_1, perm_sample_2 = permutation_sample(rain_june, rain_november)\n",
        "\n",
        "\n",
        "    # Compute ECDFs\n",
        "    x_1, y_1 = ecdf(perm_sample_1)\n",
        "    x_2, y_2 = ecdf(perm_sample_2)\n",
        "\n",
        "    # Plot ECDFs of permutation sample\n",
        "    _ = plt.plot(x_1, y_1, marker='.', linestyle='none',\n",
        "                 color='red', alpha=0.02)\n",
        "    _ = plt.plot(x_2, y_2, marker='.', linestyle='none',\n",
        "                 color='blue', alpha=0.02)\n",
        "\n",
        "# Create and plot ECDFs from original data\n",
        "x_1, y_1 = ecdf(rain_june)\n",
        "x_2, y_2 = ecdf(rain_november)\n",
        "_ = plt.plot(x_1, y_1, marker='.', linestyle='none', color='red')\n",
        "_ = plt.plot(x_2, y_2, marker='.', linestyle='none', color='blue')\n",
        "\n",
        "# Label axes, set margin, and show plot\n",
        "plt.margins(0.02)\n",
        "_ = plt.xlabel('monthly rainfall (mm)')\n",
        "_ = plt.ylabel('ECDF')\n",
        "plt.show()"
      ],
      "execution_count": 20,
      "outputs": [
        {
          "output_type": "display_data",
          "data": {
            "image/png": "[encoded data removed]",
            "text/plain": [
              "<Figure size 432x288 with 1 Axes>"
            ]
          },
          "metadata": {
            "needs_background": "light"
          }
        }
      ]
    },
    {
      "cell_type": "markdown",
      "metadata": {
        "id": "8Z5jH5mOyUw3"
      },
      "source": [
        "#Test statistics\n",
        ">* Overlaying the theoretical CDF with empirical ECDF and visual assessment can be ok for visual assessment\n",
        ">* When performing hypothesis tests, your choice of test statistic should be be pertinent to the question you are seeking to answer in your hypothesis test.\n",
        ">* p-value is the prob. of obtaining a value of your test statistic that is equally or more extreme than the one you observed, given that the null hypothesis is true."
      ]
    },
    {
      "cell_type": "code",
      "metadata": {
        "id": "OW3PBR3WMJ2O"
      },
      "source": [
        "def draw_perm_reps(data_1, data_2, func, size=1):\n",
        "    \"\"\"Generate multiple permutation replicates.\"\"\"\n",
        "\n",
        "    # Initialize array of replicates: perm_replicates\n",
        "    perm_replicates = np.empty(size)\n",
        "\n",
        "    for i in range(size):\n",
        "        # Generate permutation sample\n",
        "        perm_sample_1, perm_sample_2 = permutation_sample(data_1, data_2)\n",
        "\n",
        "        # Compute the test statistic\n",
        "        perm_replicates[i] = func(perm_sample_1, perm_sample_2)\n",
        "\n",
        "    return perm_replicates"
      ],
      "execution_count": 21,
      "outputs": []
    },
    {
      "cell_type": "code",
      "metadata": {
        "colab": {
          "base_uri": "https://localhost:8080/",
          "height": 333
        },
        "id": "OKFVXYzRRU_o",
        "outputId": "77a11275-2a1f-4a39-8d0e-0a2d5e87f4f9"
      },
      "source": [
        "# Make bee swarm plot\n",
        "_ = sns.swarmplot(df['ID'], df['impact force (mN)'])\n",
        "\n",
        "# Label axes\n",
        "_ = plt.xlabel('frog')\n",
        "_ = plt.ylabel('impact force (N)')\n",
        "\n",
        "# Show the plot\n",
        "plt.show()"
      ],
      "execution_count": 58,
      "outputs": [
        {
          "output_type": "stream",
          "text": [
            "/usr/local/lib/python3.7/dist-packages/seaborn/_decorators.py:43: FutureWarning: Pass the following variables as keyword args: x, y. From version 0.12, the only valid positional argument will be `data`, and passing other arguments without an explicit keyword will result in an error or misinterpretation.\n",
            "  FutureWarning\n"
          ],
          "name": "stderr"
        },
        {
          "output_type": "display_data",
          "data": {
            "image/png": "[encoded data removed]",
            "text/plain": [
              "<Figure size 432x288 with 1 Axes>"
            ]
          },
          "metadata": {
            "needs_background": "light"
          }
        }
      ]
    },
    {
      "cell_type": "code",
      "metadata": {
        "colab": {
          "base_uri": "https://localhost:8080/"
        },
        "id": "iCauPQEaSiqQ",
        "outputId": "fbda3915-b470-4c46-fdf0-cfa4055f3174"
      },
      "source": [
        "def diff_of_means(data_1, data_2):\n",
        "    \"\"\"Difference in means of two arrays.\"\"\"\n",
        "\n",
        "    # The difference of means of data_1, data_2: diff\n",
        "    diff = np.mean(data_1) - np.mean(data_2)\n",
        "\n",
        "    return diff\n",
        "\n",
        "# Compute difference of mean impact force from experiment: empirical_diff_means\n",
        "empirical_diff_means = diff_of_means(force_a, force_b)\n",
        "\n",
        "# Draw 10,000 permutation replicates: perm_replicates\n",
        "perm_replicates = draw_perm_reps(force_a, force_b,\n",
        "                                 diff_of_means, size=10000)\n",
        "\n",
        "# Compute p-value: p\n",
        "p = np.sum(perm_replicates >= empirical_diff_means) / len(perm_replicates)\n",
        "\n",
        "# Print the result\n",
        "print('p-value is : %6.8f' %p)"
      ],
      "execution_count": 60,
      "outputs": [
        {
          "output_type": "stream",
          "text": [
            "p-value is : 0.00000000\n"
          ],
          "name": "stdout"
        }
      ]
    },
    {
      "cell_type": "code",
      "metadata": {
        "id": "05zEIZxAMLsW"
      },
      "source": [
        ""
      ],
      "execution_count": null,
      "outputs": []
    },
    {
      "cell_type": "code",
      "metadata": {
        "id": "7m4TBgyPpRID"
      },
      "source": [
        "def ecdf(data):\n",
        "    \"\"\"Compute ECDF for a one-dimensional array of measurements.\"\"\"\n",
        "    # Number of data points: n\n",
        "    n = len(data)\n",
        "\n",
        "    # x-data for the ECDF: x\n",
        "    x = np.sort(data)\n",
        "\n",
        "    # y-data for the ECDF: y\n",
        "    y = np.arange(1, n+1) / n\n",
        "\n",
        "    return x, y"
      ],
      "execution_count": 5,
      "outputs": []
    }
  ]
}