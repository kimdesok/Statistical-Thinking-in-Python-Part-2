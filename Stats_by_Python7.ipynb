{
  "nbformat": 4,
  "nbformat_minor": 0,
  "metadata": {
    "colab": {
      "name": "Stats_by_Python7.ipynb",
      "provenance": [],
      "collapsed_sections": [],
      "mount_file_id": "1BGF9FYIS53t5NhsN2VPUB9uALOeYxT3N",
      "authorship_tag": "ABX9TyMnn5kAA5iD0LyehVaJAU2D",
      "include_colab_link": true
    },
    "kernelspec": {
      "name": "python3",
      "display_name": "Python 3"
    },
    "language_info": {
      "name": "python"
    }
  },
  "cells": [
    {
      "cell_type": "markdown",
      "metadata": {
        "id": "view-in-github",
        "colab_type": "text"
      },
      "source": [
        "<a href=\"https://colab.research.google.com/github/kimdesok/Statistical-Thinking-in-Python-Part-2/blob/main/Stats_by_Python7.ipynb\" target=\"_parent\"><img src=\"https://colab.research.google.com/assets/colab-badge.svg\" alt=\"Open In Colab\"/></a>"
      ]
    },
    {
      "cell_type": "markdown",
      "metadata": {
        "id": "vUXdyqHQwqYy"
      },
      "source": [
        "#Hypothesis testing\n",
        ">* Null hypothesis - H0 = no difference vs. Ha = any significant difference. \n",
        ">* The question can be answered by formulation & simulation.\n",
        ">* Premutation -   Two samples are mixed by a random reordering of entries in an array. Then what?  \n"
      ]
    },
    {
      "cell_type": "code",
      "metadata": {
        "colab": {
          "base_uri": "https://localhost:8080/"
        },
        "id": "164zzZTaj3w9",
        "outputId": "f1ce6c7f-f35b-49b4-d448-195fea5e201e"
      },
      "source": [
        "# Import plotting modules\n",
        "import matplotlib.pyplot as plt\n",
        "import seaborn as sns\n",
        "\n",
        "#Importing numpy\n",
        "import numpy as np\n",
        "\n",
        "import pandas as pd\n",
        "\n",
        "#Load a csv file at the Google drive to the colab\n",
        "file_path = r'/content/drive/MyDrive/datasets/sheffield_weather_station.csv'\n",
        "rainfall = np.loadtxt(fname=file_path, skiprows=9, usecols=(1,5)) #delimiter default is whitespace\n",
        "#print(rainfall)\n",
        "\n",
        "file_path = r'/content/drive/MyDrive/datasets/frog_tongue.csv'\n",
        "print(file_path)\n",
        "df = pd.read_csv(file_path, skiprows=14)\n",
        "print(df.columns)\n",
        "cols = ['ID', 'impact force (mN)']\n",
        "print(df[cols])\n",
        "\n",
        "# Obtain force data from each frog species\n",
        "force_a = df[df['ID'] == 'I']['impact force (mN)']\n",
        "force_b = df[df['ID'] == 'II']['impact force (mN)']\n",
        "force_c = df[df['ID'] == 'III']['impact force (mN)']\n",
        "force_d = df[df['ID'] == 'IV']['impact force (mN)']\n",
        "print(len(force_a), len(force_b), len(force_c), len(force_d))\n",
        "print(sorted(force_a), sorted(force_b), sorted(force_c), sorted(force_d))\n",
        "print(np.mean(force_a), np.mean(force_b), np.mean(force_c), np.mean(force_d))"
      ],
      "execution_count": 69,
      "outputs": [
        {
          "output_type": "stream",
          "text": [
            "/content/drive/MyDrive/datasets/frog_tongue.csv\n",
            "Index(['date', 'ID', 'trial number', 'impact force (mN)', 'impact time (ms)',\n",
            "       'impact force / body weight', 'adhesive force (mN)',\n",
            "       'time frog pulls on target (ms)', 'adhesive force / body weight',\n",
            "       'adhesive impulse (N-s)', 'total contact area (mm2)',\n",
            "       'contact area without mucus (mm2)',\n",
            "       'contact area with mucus / contact area without mucus',\n",
            "       'contact pressure (Pa)', 'adhesive strength (Pa)'],\n",
            "      dtype='object')\n",
            "    ID  impact force (mN)\n",
            "0    I               1205\n",
            "1    I               2527\n",
            "2    I               1745\n",
            "3    I               1556\n",
            "4    I                493\n",
            "..  ..                ...\n",
            "75  IV                402\n",
            "76  IV                605\n",
            "77  IV                711\n",
            "78  IV                614\n",
            "79  IV                468\n",
            "\n",
            "[80 rows x 2 columns]\n",
            "20 20 20 20\n",
            "[473, 493, 556, 775, 1205, 1240, 1282, 1307, 1543, 1545, 1556, 1692, 1745, 1891, 1897, 1928, 2032, 2276, 2527, 2641] [245, 269, 297, 327, 383, 435, 457, 515, 529, 541, 605, 628, 703, 730, 751, 946, 1182, 1453, 1539, 1612] [324, 385, 401, 414, 458, 459, 488, 535, 538, 544, 544, 579, 611, 614, 614, 621, 626, 665, 776, 806] [22, 37, 142, 172, 198, 198, 273, 355, 402, 453, 468, 502, 516, 582, 597, 605, 614, 711, 720, 815]\n",
            "1530.2 707.35 550.1 419.1\n"
          ],
          "name": "stdout"
        }
      ]
    },
    {
      "cell_type": "code",
      "metadata": {
        "id": "7m4TBgyPpRID"
      },
      "source": [
        "def ecdf(data):\n",
        "    \"\"\"Compute ECDF for a one-dimensional array of measurements.\"\"\"\n",
        "    # Number of data points: n\n",
        "    n = len(data)\n",
        "\n",
        "    # x-data for the ECDF: x\n",
        "    x = np.sort(data)\n",
        "\n",
        "    # y-data for the ECDF: y\n",
        "    y = np.arange(1, n+1) / n\n",
        "\n",
        "    return x, y"
      ],
      "execution_count": 70,
      "outputs": []
    },
    {
      "cell_type": "code",
      "metadata": {
        "id": "cNt9qvrsBo3F"
      },
      "source": [
        "def permutation_sample(data1, data2):\n",
        "    \"\"\"Generate a permutation sample from two data sets.\"\"\"\n",
        "\n",
        "    # Concatenate the data sets: data\n",
        "    data = np.concatenate((data1, data2))\n",
        "\n",
        "    # Permute the concatenated array: permuted_data\n",
        "    permuted_data = np.random.permutation(data)\n",
        "\n",
        "    # Split the permuted array into two: perm_sample_1, perm_sample_2\n",
        "    perm_sample_1 = permuted_data[:len(data1)]\n",
        "    perm_sample_2 = permuted_data[len(data1):]\n",
        "\n",
        "    return perm_sample_1, perm_sample_2"
      ],
      "execution_count": 71,
      "outputs": []
    },
    {
      "cell_type": "code",
      "metadata": {
        "colab": {
          "base_uri": "https://localhost:8080/",
          "height": 279
        },
        "id": "J5kdqSV7BqnV",
        "outputId": "77a58883-be86-47d0-df94-3cb075228940"
      },
      "source": [
        "# Slice the weather data to get june data and november data \n",
        "rain_june = rainfall[rainfall[:, 0]==6][:,1]\n",
        "rain_november = rainfall[rainfall[:, 0]==11][:,1]\n",
        "\n",
        "#print(rain_june)\n",
        "\n",
        "for i in range(50):\n",
        "    # Generate permutation samples\n",
        "    perm_sample_1, perm_sample_2 = permutation_sample(rain_june, rain_november)\n",
        "\n",
        "\n",
        "    # Compute ECDFs\n",
        "    x_1, y_1 = ecdf(perm_sample_1)\n",
        "    x_2, y_2 = ecdf(perm_sample_2)\n",
        "\n",
        "    # Plot ECDFs of permutation sample\n",
        "    _ = plt.plot(x_1, y_1, marker='.', linestyle='none',\n",
        "                 color='red', alpha=0.02)\n",
        "    _ = plt.plot(x_2, y_2, marker='.', linestyle='none',\n",
        "                 color='blue', alpha=0.02)\n",
        "\n",
        "# Create and plot ECDFs from original data\n",
        "x_1, y_1 = ecdf(rain_june)\n",
        "x_2, y_2 = ecdf(rain_november)\n",
        "_ = plt.plot(x_1, y_1, marker='.', linestyle='none', color='red')\n",
        "_ = plt.plot(x_2, y_2, marker='.', linestyle='none', color='blue')\n",
        "\n",
        "# Label axes, set margin, and show plot\n",
        "plt.margins(0.02)\n",
        "_ = plt.xlabel('monthly rainfall (mm)')\n",
        "_ = plt.ylabel('ECDF')\n",
        "plt.show()"
      ],
      "execution_count": 72,
      "outputs": [
        {
          "output_type": "display_data",
          "data": {
            "image/png": "[encoded data removed]",
            "text/plain": [
              "<Figure size 432x288 with 1 Axes>"
            ]
          },
          "metadata": {
            "needs_background": "light"
          }
        }
      ]
    },
    {
      "cell_type": "markdown",
      "metadata": {
        "id": "8Z5jH5mOyUw3"
      },
      "source": [
        "#Test statistics\n",
        ">* Overlaying the theoretical CDF with empirical ECDF and visual assessment can be ok for visual assessment\n",
        ">* When performing hypothesis tests, your choice of test statistic should be be pertinent to the question you are seeking to answer in your hypothesis test.\n",
        ">* p-value is the prob. of obtaining a value of your test statistic that is equally or more extreme than the one you observed, given that the null hypothesis is true."
      ]
    },
    {
      "cell_type": "code",
      "metadata": {
        "id": "OW3PBR3WMJ2O"
      },
      "source": [
        "def draw_perm_reps(data_1, data_2, func, size=1):\n",
        "    \"\"\"Generate multiple permutation replicates.\"\"\"\n",
        "\n",
        "    # Initialize array of replicates: perm_replicates\n",
        "    perm_replicates = np.empty(size)\n",
        "\n",
        "    for i in range(size):\n",
        "        # Generate permutation sample\n",
        "        perm_sample_1, perm_sample_2 = permutation_sample(data_1, data_2)\n",
        "\n",
        "        # Compute the test statistic\n",
        "        perm_replicates[i] = func(perm_sample_1, perm_sample_2)\n",
        "\n",
        "    return perm_replicates"
      ],
      "execution_count": 73,
      "outputs": []
    },
    {
      "cell_type": "code",
      "metadata": {
        "colab": {
          "base_uri": "https://localhost:8080/",
          "height": 333
        },
        "id": "OKFVXYzRRU_o",
        "outputId": "4c3310b5-283c-4503-9bda-74c72e85808c"
      },
      "source": [
        "# Make bee swarm plot\n",
        "_ = sns.swarmplot(df['ID'], df['impact force (mN)'])\n",
        "\n",
        "# Label axes\n",
        "_ = plt.xlabel('frog')\n",
        "_ = plt.ylabel('impact force (N)')\n",
        "\n",
        "# Show the plot\n",
        "plt.show()"
      ],
      "execution_count": 74,
      "outputs": [
        {
          "output_type": "stream",
          "text": [
            "/usr/local/lib/python3.7/dist-packages/seaborn/_decorators.py:43: FutureWarning: Pass the following variables as keyword args: x, y. From version 0.12, the only valid positional argument will be `data`, and passing other arguments without an explicit keyword will result in an error or misinterpretation.\n",
            "  FutureWarning\n"
          ],
          "name": "stderr"
        },
        {
          "output_type": "display_data",
          "data": {
            "image/png": "[encoded data removed]",
            "text/plain": [
              "<Figure size 432x288 with 1 Axes>"
            ]
          },
          "metadata": {
            "needs_background": "light"
          }
        }
      ]
    },
    {
      "cell_type": "code",
      "metadata": {
        "colab": {
          "base_uri": "https://localhost:8080/"
        },
        "id": "iCauPQEaSiqQ",
        "outputId": "ca49db4d-e23a-4cbf-eed3-ada7ddc46354"
      },
      "source": [
        "def diff_of_means(data_1, data_2):\n",
        "    \"\"\"Difference in means of two arrays.\"\"\"\n",
        "\n",
        "    # The difference of means of data_1, data_2: diff\n",
        "    diff = np.mean(data_1) - np.mean(data_2)\n",
        "\n",
        "    return diff\n",
        "\n",
        "# Compute difference of mean impact force from experiment: empirical_diff_means\n",
        "empirical_diff_means = diff_of_means(force_a, force_b)\n",
        "\n",
        "# Draw 10,000 permutation replicates: perm_replicates\n",
        "perm_replicates = draw_perm_reps(force_a, force_b,\n",
        "                                 diff_of_means, size=10000)\n",
        "\n",
        "# Compute p-value: p\n",
        "p = np.sum(perm_replicates >= empirical_diff_means) / len(perm_replicates)\n",
        "\n",
        "# Print the result\n",
        "print('p-value is : %6.8f' %p)"
      ],
      "execution_count": 75,
      "outputs": [
        {
          "output_type": "stream",
          "text": [
            "p-value is : 0.00000000\n"
          ],
          "name": "stdout"
        }
      ]
    },
    {
      "cell_type": "markdown",
      "metadata": {
        "id": "PPwGmqnlXIa2"
      },
      "source": [
        "#A one-sample bootstrap hypothesis test\n",
        ">* We want to see if Frog D and Frog C have similar impact forces.\n",
        ">* Suppose we only know the mean of Frog C's impact forces, 551 mN\n",
        ">* Since you do not have the distribution of Frog C's data, you cannot do a permutation test:you cannot test the two coming from the same distribution.\n",
        ">* This we test a less restrictive hypothesis: The mean foce of Frog D is equal to that of Frog C."
      ]
    },
    {
      "cell_type": "code",
      "metadata": {
        "id": "JA-Mg7DKohkO"
      },
      "source": [
        "def bootstrap_replicate_1d(data, func):\n",
        "    \"\"\"Generate bootstrap replicate of 1D data.\"\"\"\n",
        "    bs_sample = np.random.choice(data, len(data))\n",
        "    return func(bs_sample)\n",
        "    \n",
        "def draw_bs_reps(data, func, size=1):\n",
        "    \"\"\"Draw bootstrap replicates.\"\"\"\n",
        "\n",
        "    # Initialize array of replicates: bs_replicates\n",
        "    bs_replicates = np.empty(size)\n",
        "\n",
        "    # Generate replicates\n",
        "    for i in range(size):\n",
        "        bs_replicates[i] = bootstrap_replicate_1d(data, func)\n",
        "\n",
        "    return bs_replicates"
      ],
      "execution_count": 76,
      "outputs": []
    },
    {
      "cell_type": "code",
      "metadata": {
        "colab": {
          "base_uri": "https://localhost:8080/"
        },
        "id": "05zEIZxAMLsW",
        "outputId": "b2530282-c776-4a12-96b6-0e41846a22ff"
      },
      "source": [
        "# Make an array of translated impact forces: translated_force_b such that its mean is 550.1 mN same as Frog C\n",
        "translated_force_d = force_d - np.mean(force_d) + 550.1\n",
        "\n",
        "# Take bootstrap replicates of Frog B's translated impact forces: bs_replicates\n",
        "bs_replicates = draw_bs_reps(translated_force_d, np.mean, 10000)\n",
        "\n",
        "# Compute fraction of replicates that are less than the observed Frog B force: p\n",
        "p = np.sum(bs_replicates <= np.mean(force_d)) / 10000\n",
        "\n",
        "# Print the p-value\n",
        "print('p = %.6f' %p)\n"
      ],
      "execution_count": 77,
      "outputs": [
        {
          "output_type": "stream",
          "text": [
            "p = 0.005100\n"
          ],
          "name": "stdout"
        }
      ]
    },
    {
      "cell_type": "markdown",
      "metadata": {
        "id": "ta2Qfr6ce8fo"
      },
      "source": [
        "#A two-sample bootstrap hypothesis test\n",
        ">* To test the hypothesis that Frog C and Frog D have the same mean impact force, but not necessarily the same distribution, which is also impossible with a permutation test.\n",
        ">* Shift both arrays to have the same mean, since we are simulating the hypothesis that their means are, in fact, equal.\n",
        ">* Draw bootstrap samples out of the shifted arrays and compute the difference in means. \n",
        ">* The p-value is the fraction of replicates with a difference in means greater than or equal to what was observed."
      ]
    },
    {
      "cell_type": "code",
      "metadata": {
        "colab": {
          "base_uri": "https://localhost:8080/"
        },
        "id": "xnxGeztJflJV",
        "outputId": "372d38d0-6dac-4f29-ceaa-339cea577d30"
      },
      "source": [
        "forces_concat = np.concatenate((force_c, force_d))\n",
        "empirical_diff_means = diff_of_means(force_c, force_d)\n",
        "\n",
        "# Compute mean of all forces: mean_force\n",
        "mean_force = np.mean(forces_concat)\n",
        "\n",
        "# Generate shifted arrays\n",
        "force_c_shifted = force_c - np.mean(force_c) + mean_force\n",
        "force_d_shifted = force_d - np.mean(force_d) + mean_force \n",
        "\n",
        "# Compute 10,000 bootstrap replicates from shifted arrays\n",
        "bs_replicates_c = draw_bs_reps(force_c_shifted, np.mean, 10000)\n",
        "bs_replicates_d = draw_bs_reps(force_d_shifted, np.mean, 10000)\n",
        "\n",
        "# Get replicates of difference of means: bs_replicates\n",
        "bs_replicates = bs_replicates_c - bs_replicates_d\n",
        "\n",
        "# Compute and print p-value: p\n",
        "p = np.sum(bs_replicates > (np.mean(force_c - force_d))) / len(bs_replicates)\n",
        "print('p-value = %.8f' %p)"
      ],
      "execution_count": 80,
      "outputs": [
        {
          "output_type": "stream",
          "text": [
            "p-value = 0.00000000\n"
          ],
          "name": "stdout"
        }
      ]
    }
  ]
}