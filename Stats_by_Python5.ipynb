{
  "nbformat": 4,
  "nbformat_minor": 0,
  "metadata": {
    "colab": {
      "name": "Stats_by_Python5.ipynb",
      "provenance": [],
      "mount_file_id": "1BGF9FYIS53t5NhsN2VPUB9uALOeYxT3N",
      "authorship_tag": "ABX9TyOsCk0fOcX+hH2qca/OLVoR",
      "include_colab_link": true
    },
    "kernelspec": {
      "name": "python3",
      "display_name": "Python 3"
    },
    "language_info": {
      "name": "python"
    }
  },
  "cells": [
    {
      "cell_type": "markdown",
      "metadata": {
        "id": "view-in-github",
        "colab_type": "text"
      },
      "source": [
        "<a href=\"https://colab.research.google.com/github/kimdesok/Statistical-Thinking-in-Python-Part-2/blob/main/Stats_by_Python5.ipynb\" target=\"_parent\"><img src=\"https://colab.research.google.com/assets/colab-badge.svg\" alt=\"Open In Colab\"/></a>"
      ]
    },
    {
      "cell_type": "markdown",
      "metadata": {
        "id": "vUXdyqHQwqYy"
      },
      "source": [
        "#Parameter estimation by optimization\n",
        ">* Optimal parameters: how to find them\n",
        ">* Your parameters are only good when your model fits your data\n",
        ">* Goodness of fit is a good tool to see how well or significantly your data fits the model.\n"
      ]
    },
    {
      "cell_type": "code",
      "metadata": {
        "id": "164zzZTaj3w9"
      },
      "source": [
        "# Import plotting modules\n",
        "import matplotlib.pyplot as plt\n",
        "import seaborn as sns\n",
        "\n",
        "#Importing numpy\n",
        "import numpy as np\n",
        "\n",
        "import pandas as pd\n",
        "\n",
        "#Load a csv file at the Google drive to the colab\n",
        "file_path = r'/content/drive/MyDrive/datasets/mlb_nohitters.csv'\n",
        "nohitter_times = np.loadtxt(fname=file_path, skiprows=1, usecols=range(1,2), delimiter=',')\n",
        "#print(nohitter_times)"
      ],
      "execution_count": 12,
      "outputs": []
    },
    {
      "cell_type": "code",
      "metadata": {
        "colab": {
          "base_uri": "https://localhost:8080/",
          "height": 290
        },
        "id": "IF86VKfMwOMZ",
        "outputId": "09bbff3d-c053-420f-bae5-04fcfdfaab70"
      },
      "source": [
        "# Seed random number generator\n",
        "np.random.seed(42)\n",
        "\n",
        "# Compute mean no-hitter time: tau\n",
        "tau = np.mean(nohitter_times)\n",
        "\n",
        "# Draw out of an exponential distribution with parameter tau: inter_nohitter_time\n",
        "inter_nohitter_time = np.random.exponential(tau, 100000)\n",
        "\n",
        "# Plot the PDF and label axes\n",
        "_ = plt.hist(inter_nohitter_time, bins=50, density=True, histtype='step')\n",
        "_ = plt.xlabel('Games between no-hitters')\n",
        "_ = plt.ylabel('PDF')\n",
        "\n",
        "# Show the plot\n",
        "plt.show()\n"
      ],
      "execution_count": 14,
      "outputs": [
        {
          "output_type": "display_data",
          "data": {
            "image/png": "[encoded data removed]",
            "text/plain": [
              "<Figure size 432x288 with 1 Axes>"
            ]
          },
          "metadata": {
            "needs_background": "light"
          }
        }
      ]
    },
    {
      "cell_type": "code",
      "metadata": {
        "id": "zr0CnW43jtjk"
      },
      "source": [
        "!mv /content/mlb_nohitters.csv /content/drive/MyDrive/datasets"
      ],
      "execution_count": 1,
      "outputs": []
    }
  ]
}